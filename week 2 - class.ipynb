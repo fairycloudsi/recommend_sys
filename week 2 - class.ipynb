{
 "cells": [
  {
   "cell_type": "code",
   "execution_count": 1,
   "metadata": {},
   "outputs": [],
   "source": [
    "import requests, json, os, sys, time, re\n",
    "from datetime import datetime\n",
    "from multiprocessing import Pool\n",
    "from sqlalchemy import *"
   ]
  },
  {
   "cell_type": "code",
   "execution_count": 4,
   "metadata": {},
   "outputs": [],
   "source": [
    "def split_list(lst_long,n):\n",
    "    lst_splitted = []\n",
    "    if len(lst_long) % n == 0:\n",
    "        totalBatches = int(len(lst_long) / n)\n",
    "    else:\n",
    "        totalBatches = int(len(lst_long) / n) + 1\n",
    "    for i in range(totalBatches):\n",
    "        lst_short = lst_long[i*n:(i+1)*n]\n",
    "        lst_splitted.append(lst_short)\n",
    "    return lst_splitted\n",
    "\n",
    "\n",
    "def show_work_status(singleCount, totalCount, currentCount=0):\n",
    "    currentCount += singleCount\n",
    "    percentage = 1. * currentCount / totalCount * 100\n",
    "    status =  '>' * int(percentage)  + ' ' * (100 - int(percentage))\n",
    "    sys.stdout.write('\\rStatus: [{0}] {1:.2f}% '.format(status, percentage))\n",
    "    sys.stdout.flush()\n",
    "    if percentage >= 100:\n",
    "        print ('\\n')"
   ]
  },
  {
   "cell_type": "code",
   "execution_count": 10,
   "metadata": {},
   "outputs": [],
   "source": [
    "path_user_id = 'data/steam_user_id.txt'\n",
    "with open(path_user_id, 'rb') as f:\n",
    "    lst_user_id = f.readlines()[:100]"
   ]
  },
  {
   "cell_type": "code",
   "execution_count": 14,
   "metadata": {},
   "outputs": [
    {
     "data": {
      "text/plain": [
       "[b'76561198158086086\\n',\n",
       " b'76561198074188133\\n',\n",
       " b'76561198058088990\\n',\n",
       " b'76561198175177483\\n',\n",
       " b'76561198042649112\\n']"
      ]
     },
     "execution_count": 14,
     "metadata": {},
     "output_type": "execute_result"
    }
   ],
   "source": [
    "lst_user_id[:5]"
   ]
  },
  {
   "cell_type": "code",
   "execution_count": 17,
   "metadata": {},
   "outputs": [
    {
     "name": "stdout",
     "output_type": "stream",
     "text": [
      "b'76561198158086086\\n' \n",
      " None\n",
      "b'76561198074188133\\n' \n",
      " [{'appid': 4000, 'playtime_forever': 3415}, {'appid': 34030, 'playtime_forever': 16526}, {'appid': 42680, 'playtime_forever': 4631}, {'appid': 42690, 'playtime_forever': 11055}, {'appid': 207610, 'playtime_forever': 126}, {'appid': 50300, 'playtime_forever': 625}, {'appid': 104900, 'playtime_forever': 173}, {'appid': 227300, 'playtime_forever': 1447}, {'appid': 113400, 'playtime_forever': 1120}, {'appid': 203290, 'playtime_forever': 4008}, {'appid': 206210, 'playtime_forever': 114}, {'appid': 211500, 'playtime_forever': 11}, {'appid': 218230, 'playtime_forever': 327}, {'appid': 1083500, 'playtime_forever': 0}, {'appid': 236390, 'playtime_forever': 1055}, {'appid': 107400, 'playtime_forever': 0}, {'appid': 224260, 'playtime_forever': 1283}, {'appid': 65790, 'playtime_forever': 0}, {'appid': 233450, 'playtime_forever': 2841}, {'appid': 217200, 'playtime_forever': 5}, {'appid': 242760, 'playtime_forever': 2168}, {'appid': 107410, 'playtime_forever': 30813}, {'appid': 239030, 'playtime_forever': 812}, {'appid': 218620, 'playtime_forever': 1066}, {'appid': 251060, 'playtime_forever': 1292}, {'appid': 252950, 'playtime_forever': 5040}, {'appid': 270880, 'playtime_forever': 1466}, {'appid': 8930, 'playtime_forever': 3817}, {'appid': 271590, 'playtime_forever': 5969}, {'appid': 213670, 'playtime_forever': 1008}, {'appid': 281990, 'playtime_forever': 2675}, {'appid': 286160, 'playtime_forever': 485}, {'appid': 286690, 'playtime_forever': 75}, {'appid': 287390, 'playtime_forever': 0}, {'appid': 301520, 'playtime_forever': 35}, {'appid': 304050, 'playtime_forever': 102}, {'appid': 304930, 'playtime_forever': 1923}, {'appid': 310560, 'playtime_forever': 283}, {'appid': 311690, 'playtime_forever': 282}, {'appid': 227940, 'playtime_forever': 102}, {'appid': 200110, 'playtime_forever': 640}, {'appid': 205790, 'playtime_forever': 0}, {'appid': 241930, 'playtime_forever': 2949}, {'appid': 239140, 'playtime_forever': 1418}, {'appid': 730, 'playtime_forever': 32116}, {'appid': 282070, 'playtime_forever': 560}, {'appid': 250900, 'playtime_forever': 218}, {'appid': 339610, 'playtime_forever': 375}, {'appid': 341800, 'playtime_forever': 330}, {'appid': 342200, 'playtime_forever': 0}, {'appid': 349700, 'playtime_forever': 58}, {'appid': 255710, 'playtime_forever': 15965}, {'appid': 356370, 'playtime_forever': 186}, {'appid': 362620, 'playtime_forever': 2277}, {'appid': 366890, 'playtime_forever': 2}, {'appid': 366910, 'playtime_forever': 657}, {'appid': 292030, 'playtime_forever': 9426}, {'appid': 377160, 'playtime_forever': 6824}, {'appid': 379430, 'playtime_forever': 7338}, {'appid': 380600, 'playtime_forever': 75}, {'appid': 384180, 'playtime_forever': 334}, {'appid': 383870, 'playtime_forever': 316}, {'appid': 385770, 'playtime_forever': 9}, {'appid': 386360, 'playtime_forever': 177}, {'appid': 858460, 'playtime_forever': 0}, {'appid': 291550, 'playtime_forever': 132}, {'appid': 390670, 'playtime_forever': 364}, {'appid': 391040, 'playtime_forever': 4462}, {'appid': 352460, 'playtime_forever': 139}, {'appid': 392110, 'playtime_forever': 78}, {'appid': 396750, 'playtime_forever': 285}, {'appid': 393380, 'playtime_forever': 1800}, {'appid': 774941, 'playtime_forever': 0}, {'appid': 299360, 'playtime_forever': 0}, {'appid': 413150, 'playtime_forever': 725}, {'appid': 415200, 'playtime_forever': 3269}, {'appid': 417860, 'playtime_forever': 75}, {'appid': 368500, 'playtime_forever': 3006}, {'appid': 268500, 'playtime_forever': 2641}, {'appid': 431240, 'playtime_forever': 405}, {'appid': 236870, 'playtime_forever': 455}, {'appid': 444560, 'playtime_forever': 1}, {'appid': 310380, 'playtime_forever': 29}, {'appid': 394360, 'playtime_forever': 16430}, {'appid': 477160, 'playtime_forever': 81}, {'appid': 485980, 'playtime_forever': 578}, {'appid': 214850, 'playtime_forever': 1956}, {'appid': 273350, 'playtime_forever': 981}, {'appid': 319630, 'playtime_forever': 5}, {'appid': 360430, 'playtime_forever': 323}, {'appid': 493340, 'playtime_forever': 2108}, {'appid': 534500, 'playtime_forever': 315}, {'appid': 569480, 'playtime_forever': 649}, {'appid': 578080, 'playtime_forever': 5094}, {'appid': 577800, 'playtime_forever': 6132}, {'appid': 515220, 'playtime_forever': 705}, {'appid': 572410, 'playtime_forever': 984}, {'appid': 665360, 'playtime_forever': 145}, {'appid': 594570, 'playtime_forever': 3462}, {'appid': 435150, 'playtime_forever': 1701}, {'appid': 720380, 'playtime_forever': 28}, {'appid': 779340, 'playtime_forever': 1595}, {'appid': 648350, 'playtime_forever': 474}, {'appid': 552520, 'playtime_forever': 422}, {'appid': 356190, 'playtime_forever': 13}, {'appid': 581320, 'playtime_forever': 1219}]\n",
      "b'76561198058088990\\n' \n",
      " [{'appid': 320, 'playtime_forever': 666}, {'appid': 1200, 'playtime_forever': 88}, {'appid': 1230, 'playtime_forever': 15}, {'appid': 1280, 'playtime_forever': 329}, {'appid': 2400, 'playtime_forever': 0}, {'appid': 2420, 'playtime_forever': 0}, {'appid': 2430, 'playtime_forever': 0}, {'appid': 4000, 'playtime_forever': 9697}, {'appid': 2590, 'playtime_forever': 0}, {'appid': 2780, 'playtime_forever': 27}, {'appid': 16710, 'playtime_forever': 0}, {'appid': 8140, 'playtime_forever': 162}, {'appid': 17470, 'playtime_forever': 0}, {'appid': 24740, 'playtime_forever': 0}, {'appid': 1250, 'playtime_forever': 835}, {'appid': 35420, 'playtime_forever': 0}, {'appid': 38220, 'playtime_forever': 12}, {'appid': 24800, 'playtime_forever': 0}, {'appid': 17450, 'playtime_forever': 0}, {'appid': 18110, 'playtime_forever': 7}, {'appid': 40100, 'playtime_forever': 15}, {'appid': 38700, 'playtime_forever': 22}, {'appid': 3130, 'playtime_forever': 11}, {'appid': 33930, 'playtime_forever': 25891}, {'appid': 219540, 'playtime_2weeks': 1, 'playtime_forever': 33}, {'appid': 65700, 'playtime_forever': 40}, {'appid': 35130, 'playtime_forever': 77}, {'appid': 70100, 'playtime_forever': 126}, {'appid': 70110, 'playtime_forever': 106}, {'appid': 70900, 'playtime_forever': 0}, {'appid': 33950, 'playtime_forever': 0}, {'appid': 65720, 'playtime_forever': 1}, {'appid': 4560, 'playtime_forever': 0}, {'appid': 228200, 'playtime_forever': 492}, {'appid': 50300, 'playtime_forever': 64}, {'appid': 21100, 'playtime_forever': 11}, {'appid': 55100, 'playtime_forever': 0}, {'appid': 44340, 'playtime_forever': 29}, {'appid': 70000, 'playtime_forever': 142}, {'appid': 620, 'playtime_forever': 939}, {'appid': 57900, 'playtime_forever': 0}, {'appid': 16450, 'playtime_forever': 43}, {'appid': 20920, 'playtime_forever': 224}, {'appid': 46500, 'playtime_forever': 46}, {'appid': 46510, 'playtime_forever': 46}, {'appid': 2210, 'playtime_forever': 17}, {'appid': 34830, 'playtime_forever': 0}, {'appid': 96100, 'playtime_forever': 233}, {'appid': 32800, 'playtime_forever': 0}, {'appid': 65790, 'playtime_forever': 0}, {'appid': 38740, 'playtime_forever': 11}, {'appid': 17710, 'playtime_forever': 98}, {'appid': 42680, 'playtime_forever': 1353}, {'appid': 42690, 'playtime_forever': 3395}, {'appid': 24240, 'playtime_forever': 309}, {'appid': 113200, 'playtime_forever': 350}, {'appid': 65730, 'playtime_forever': 0}, {'appid': 205790, 'playtime_forever': 0}, {'appid': 67370, 'playtime_forever': 26}, {'appid': 58610, 'playtime_forever': 8}, {'appid': 201700, 'playtime_forever': 206}, {'appid': 208670, 'playtime_forever': 75}, {'appid': 207610, 'playtime_forever': 0}, {'appid': 108800, 'playtime_forever': 292}, {'appid': 115320, 'playtime_forever': 9}, {'appid': 12750, 'playtime_forever': 6}, {'appid': 11590, 'playtime_forever': 0}, {'appid': 12830, 'playtime_forever': 0}, {'appid': 11260, 'playtime_forever': 92}, {'appid': 35140, 'playtime_forever': 171}, {'appid': 209080, 'playtime_forever': 0}, {'appid': 730, 'playtime_2weeks': 1274, 'playtime_forever': 33113}, {'appid': 11450, 'playtime_forever': 16}, {'appid': 214560, 'playtime_forever': 76}, {'appid': 202970, 'playtime_forever': 190}, {'appid': 202990, 'playtime_forever': 2282}, {'appid': 212910, 'playtime_forever': 17956}, {'appid': 49520, 'playtime_forever': 524}, {'appid': 65740, 'playtime_forever': 50}, {'appid': 203140, 'playtime_forever': 150}, {'appid': 204630, 'playtime_forever': 68}, {'appid': 16730, 'playtime_forever': 84}, {'appid': 57690, 'playtime_forever': 0}, {'appid': 223470, 'playtime_forever': 7}, {'appid': 35720, 'playtime_forever': 0}, {'appid': 203160, 'playtime_forever': 78}, {'appid': 11020, 'playtime_forever': 18}, {'appid': 51100, 'playtime_forever': 0}, {'appid': 107900, 'playtime_forever': 1}, {'appid': 109600, 'playtime_forever': 29}, {'appid': 113400, 'playtime_forever': 137}, {'appid': 200210, 'playtime_forever': 10}, {'appid': 203290, 'playtime_forever': 0}, {'appid': 208090, 'playtime_forever': 1}, {'appid': 218230, 'playtime_forever': 109}, {'appid': 1083500, 'playtime_forever': 0}, {'appid': 230410, 'playtime_2weeks': 37, 'playtime_forever': 40908}, {'appid': 236390, 'playtime_forever': 88}, {'appid': 238260, 'playtime_forever': 5}, {'appid': 238960, 'playtime_forever': 155}, {'appid': 272350, 'playtime_forever': 271}, {'appid': 31500, 'playtime_forever': 0}, {'appid': 95700, 'playtime_forever': 0}, {'appid': 209870, 'playtime_forever': 0}, {'appid': 223710, 'playtime_forever': 67}, {'appid': 248570, 'playtime_forever': 0}, {'appid': 202090, 'playtime_forever': 30}, {'appid': 223750, 'playtime_forever': 1}, {'appid': 224260, 'playtime_forever': 9}, {'appid': 226980, 'playtime_forever': 121}, {'appid': 253710, 'playtime_forever': 0}, {'appid': 224580, 'playtime_forever': 56}, {'appid': 227100, 'playtime_forever': 64}, {'appid': 225260, 'playtime_forever': 145}, {'appid': 107410, 'playtime_forever': 5026}, {'appid': 44350, 'playtime_forever': 219}, {'appid': 22300, 'playtime_forever': 1}, {'appid': 234650, 'playtime_forever': 46}, {'appid': 227480, 'playtime_forever': 147}, {'appid': 238210, 'playtime_forever': 0}, {'appid': 224420, 'playtime_forever': 149}, {'appid': 2300, 'playtime_forever': 13}, {'appid': 9160, 'playtime_forever': 5}, {'appid': 33910, 'playtime_forever': 174}, {'appid': 239450, 'playtime_forever': 117}, {'appid': 2290, 'playtime_forever': 14}, {'appid': 9480, 'playtime_forever': 173}, {'appid': 40390, 'playtime_forever': 102}, {'appid': 55230, 'playtime_forever': 2015}, {'appid': 225640, 'playtime_forever': 27}, {'appid': 40300, 'playtime_forever': 53}, {'appid': 43110, 'playtime_forever': 449}, {'appid': 207930, 'playtime_forever': 17}, {'appid': 248530, 'playtime_forever': 132}, {'appid': 47790, 'playtime_forever': 53}, {'appid': 47830, 'playtime_forever': 58}, {'appid': 245280, 'playtime_forever': 0}, {'appid': 225280, 'playtime_forever': 153}, {'appid': 214550, 'playtime_forever': 106}, {'appid': 252490, 'playtime_forever': 5215}, {'appid': 700580, 'playtime_forever': 0}, {'appid': 253650, 'playtime_forever': 84}, {'appid': 254040, 'playtime_forever': 0}, {'appid': 236450, 'playtime_forever': 116}, {'appid': 224860, 'playtime_forever': 135}, {'appid': 256070, 'playtime_forever': 91}, {'appid': 23490, 'playtime_forever': 7}, {'appid': 91100, 'playtime_forever': 38}, {'appid': 207040, 'playtime_forever': 47}, {'appid': 217690, 'playtime_forever': 125}, {'appid': 606730, 'playtime_forever': 46}, {'appid': 257170, 'playtime_forever': 0}, {'appid': 257710, 'playtime_forever': 0}, {'appid': 259280, 'playtime_forever': 0}, {'appid': 259530, 'playtime_forever': 56}, {'appid': 212010, 'playtime_forever': 0}, {'appid': 214910, 'playtime_forever': 19}, {'appid': 232970, 'playtime_forever': 29}, {'appid': 262280, 'playtime_forever': 131}, {'appid': 227300, 'playtime_forever': 1194}, {'appid': 265120, 'playtime_forever': 76}, {'appid': 265300, 'playtime_forever': 438}, {'appid': 268850, 'playtime_forever': 4}, {'appid': 550, 'playtime_forever': 790}, {'appid': 237950, 'playtime_forever': 0}, {'appid': 57300, 'playtime_forever': 0}, {'appid': 239200, 'playtime_forever': 0}, {'appid': 65780, 'playtime_forever': 254}, {'appid': 273110, 'playtime_forever': 9}, {'appid': 274310, 'playtime_forever': 140}, {'appid': 222880, 'playtime_forever': 921}, {'appid': 274560, 'playtime_forever': 55}, {'appid': 225840, 'playtime_forever': 0}, {'appid': 278360, 'playtime_forever': 1}, {'appid': 282440, 'playtime_forever': 534}, {'appid': 284990, 'playtime_forever': 0}, {'appid': 324060, 'playtime_forever': 0}, {'appid': 286940, 'playtime_forever': 623}, {'appid': 287340, 'playtime_forever': 463}, {'appid': 291550, 'playtime_forever': 29159}, {'appid': 291710, 'playtime_forever': 0}, {'appid': 292390, 'playtime_forever': 5}, {'appid': 261510, 'playtime_forever': 0}, {'appid': 293260, 'playtime_forever': 0}, {'appid': 35450, 'playtime_forever': 75}, {'appid': 236830, 'playtime_forever': 52}, {'appid': 301520, 'playtime_forever': 0}, {'appid': 302830, 'playtime_forever': 21}, {'appid': 303390, 'playtime_forever': 139}, {'appid': 304930, 'playtime_forever': 143}, {'appid': 306410, 'playtime_forever': 132}, {'appid': 63380, 'playtime_forever': 88}, {'appid': 224600, 'playtime_forever': 0}, {'appid': 302380, 'playtime_forever': 0}, {'appid': 310950, 'playtime_forever': 6094}, {'appid': 45760, 'playtime_forever': 2148}, {'appid': 291480, 'playtime_forever': 523}, {'appid': 244630, 'playtime_forever': 0}, {'appid': 312990, 'playtime_forever': 0}, {'appid': 227940, 'playtime_forever': 416}, {'appid': 314010, 'playtime_forever': 132}, {'appid': 314280, 'playtime_forever': 0}, {'appid': 265590, 'playtime_forever': 0}, {'appid': 255070, 'playtime_forever': 132}, {'appid': 222900, 'playtime_forever': 39}, {'appid': 317250, 'playtime_forever': 5}, {'appid': 200110, 'playtime_forever': 42}, {'appid': 317970, 'playtime_forever': 278}, {'appid': 258160, 'playtime_forever': 0}, {'appid': 319150, 'playtime_forever': 462}, {'appid': 320300, 'playtime_forever': 166}, {'appid': 321040, 'playtime_forever': 119}, {'appid': 322500, 'playtime_forever': 91}, {'appid': 238320, 'playtime_forever': 46}, {'appid': 326960, 'playtime_forever': 0}, {'appid': 330760, 'playtime_forever': 0}, {'appid': 331120, 'playtime_forever': 0}, {'appid': 215470, 'playtime_forever': 45}, {'appid': 333930, 'playtime_forever': 517}, {'appid': 335430, 'playtime_forever': 112}, {'appid': 337630, 'playtime_forever': 132}, {'appid': 339120, 'playtime_forever': 0}, {'appid': 346110, 'playtime_forever': 144}, {'appid': 407530, 'playtime_forever': 0}, {'appid': 307780, 'playtime_forever': 1105}, {'appid': 347560, 'playtime_forever': 0}, {'appid': 348620, 'playtime_forever': 0}, {'appid': 349480, 'playtime_forever': 69}, {'appid': 287290, 'playtime_forever': 180}, {'appid': 351570, 'playtime_forever': 4}, {'appid': 351800, 'playtime_forever': 0}, {'appid': 39120, 'playtime_forever': 0}, {'appid': 354500, 'playtime_forever': 0}, {'appid': 354510, 'playtime_forever': 0}, {'appid': 354520, 'playtime_forever': 0}, {'appid': 354530, 'playtime_forever': 0}, {'appid': 354540, 'playtime_forever': 0}, {'appid': 354550, 'playtime_forever': 0}, {'appid': 494710, 'playtime_forever': 0}, {'appid': 355840, 'playtime_forever': 0}, {'appid': 356310, 'playtime_forever': 113}, {'appid': 357480, 'playtime_forever': 21}, {'appid': 45770, 'playtime_forever': 138}, {'appid': 361700, 'playtime_forever': 10}, {'appid': 361710, 'playtime_forever': 0}, {'appid': 361720, 'playtime_forever': 0}, {'appid': 361730, 'playtime_forever': 10}, {'appid': 361740, 'playtime_forever': 0}, {'appid': 361750, 'playtime_forever': 0}, {'appid': 361760, 'playtime_forever': 0}, {'appid': 361770, 'playtime_forever': 0}, {'appid': 361780, 'playtime_forever': 0}, {'appid': 495460, 'playtime_forever': 0}, {'appid': 47780, 'playtime_forever': 0}, {'appid': 363970, 'playtime_forever': 0}, {'appid': 298180, 'playtime_forever': 0}, {'appid': 42120, 'playtime_forever': 0}, {'appid': 370510, 'playtime_forever': 84}, {'appid': 360480, 'playtime_forever': 0}, {'appid': 371670, 'playtime_forever': 46}, {'appid': 374570, 'playtime_forever': 44}, {'appid': 375510, 'playtime_forever': 76}, {'appid': 375950, 'playtime_forever': 0}, {'appid': 377310, 'playtime_forever': 0}, {'appid': 380360, 'playtime_forever': 0}, {'appid': 380600, 'playtime_forever': 1333}, {'appid': 380840, 'playtime_forever': 10}, {'appid': 382490, 'playtime_forever': 0}, {'appid': 383330, 'playtime_forever': 46}, {'appid': 383580, 'playtime_forever': 106}, {'appid': 345180, 'playtime_forever': 0}, {'appid': 252950, 'playtime_forever': 509}, {'appid': 385560, 'playtime_forever': 46}, {'appid': 391270, 'playtime_forever': 0}, {'appid': 250180, 'playtime_2weeks': 6, 'playtime_forever': 147}, {'appid': 312610, 'playtime_forever': 2180}, {'appid': 366250, 'playtime_forever': 153}, {'appid': 397040, 'playtime_forever': 0}, {'appid': 397340, 'playtime_forever': 7}, {'appid': 398680, 'playtime_forever': 132}, {'appid': 399100, 'playtime_forever': 0}, {'appid': 311210, 'playtime_forever': 18143}, {'appid': 455130, 'playtime_forever': 0}, {'appid': 403900, 'playtime_forever': 132}, {'appid': 405500, 'playtime_forever': 0}, {'appid': 407250, 'playtime_forever': 533}, {'appid': 410110, 'playtime_forever': 210}, {'appid': 411180, 'playtime_forever': 1}, {'appid': 411181, 'playtime_forever': 0}, {'appid': 411182, 'playtime_forever': 0}, {'appid': 411183, 'playtime_forever': 0}, {'appid': 411184, 'playtime_forever': 0}, {'appid': 411185, 'playtime_forever': 0}, {'appid': 411186, 'playtime_forever': 0}, {'appid': 411187, 'playtime_forever': 0}, {'appid': 411188, 'playtime_forever': 0}, {'appid': 411189, 'playtime_forever': 0}, {'appid': 411190, 'playtime_forever': 0}, {'appid': 411191, 'playtime_forever': 0}, {'appid': 411192, 'playtime_forever': 0}, {'appid': 411193, 'playtime_forever': 0}, {'appid': 411194, 'playtime_forever': 0}, {'appid': 419910, 'playtime_forever': 1}, {'appid': 420090, 'playtime_forever': 0}, {'appid': 523480, 'playtime_forever': 0}, {'appid': 523481, 'playtime_forever': 0}, {'appid': 523482, 'playtime_forever': 0}, {'appid': 523483, 'playtime_forever': 0}, {'appid': 523484, 'playtime_forever': 0}, {'appid': 523485, 'playtime_forever': 0}, {'appid': 523486, 'playtime_forever': 0}, {'appid': 523487, 'playtime_forever': 0}, {'appid': 523488, 'playtime_forever': 0}, {'appid': 523489, 'playtime_forever': 0}, {'appid': 523490, 'playtime_forever': 0}, {'appid': 702690, 'playtime_forever': 0}, {'appid': 702691, 'playtime_forever': 0}, {'appid': 702692, 'playtime_forever': 0}, {'appid': 702693, 'playtime_forever': 0}, {'appid': 702694, 'playtime_forever': 0}, {'appid': 702695, 'playtime_forever': 0}, {'appid': 702696, 'playtime_forever': 0}, {'appid': 280790, 'playtime_forever': 152}, {'appid': 225540, 'playtime_forever': 31}, {'appid': 422100, 'playtime_forever': 76}, {'appid': 359550, 'playtime_forever': 254}, {'appid': 623990, 'playtime_forever': 0}, {'appid': 438030, 'playtime_forever': 135}, {'appid': 438100, 'playtime_forever': 5}, {'appid': 442120, 'playtime_forever': 24}, {'appid': 444090, 'playtime_forever': 419}, {'appid': 596350, 'playtime_forever': 0}, {'appid': 446150, 'playtime_forever': 8}, {'appid': 465650, 'playtime_forever': 0}, {'appid': 379720, 'playtime_forever': 4294}, {'appid': 468000, 'playtime_forever': 0}, {'appid': 489360, 'playtime_forever': 132}, {'appid': 273350, 'playtime_forever': 44}, {'appid': 319630, 'playtime_forever': 0}, {'appid': 530700, 'playtime_forever': 33}, {'appid': 534500, 'playtime_forever': 0}, {'appid': 538590, 'playtime_forever': 50}, {'appid': 489520, 'playtime_forever': 149}, {'appid': 550040, 'playtime_forever': 0}, {'appid': 550650, 'playtime_forever': 41}, {'appid': 552990, 'playtime_forever': 114}, {'appid': 444200, 'playtime_forever': 20}, {'appid': 555570, 'playtime_forever': 0}, {'appid': 402560, 'playtime_forever': 0}, {'appid': 436520, 'playtime_forever': 218}, {'appid': 578080, 'playtime_2weeks': 108, 'playtime_forever': 1159}, {'appid': 582660, 'playtime_2weeks': 5504, 'playtime_forever': 42888}, {'appid': 591960, 'playtime_forever': 0}, {'appid': 592600, 'playtime_forever': 0}, {'appid': 593880, 'playtime_forever': 39}, {'appid': 607200, 'playtime_forever': 29}, {'appid': 506540, 'playtime_forever': 0}, {'appid': 642890, 'playtime_forever': 15}, {'appid': 686140, 'playtime_forever': 0}, {'appid': 691960, 'playtime_forever': 15}, {'appid': 691961, 'playtime_forever': 0}, {'appid': 700380, 'playtime_forever': 0}, {'appid': 703590, 'playtime_forever': 0}, {'appid': 706620, 'playtime_forever': 0}, {'appid': 711400, 'playtime_forever': 0}, {'appid': 716620, 'playtime_forever': 0}, {'appid': 724890, 'playtime_forever': 0}, {'appid': 734270, 'playtime_forever': 0}, {'appid': 736730, 'playtime_forever': 0}, {'appid': 739060, 'playtime_forever': 0}, {'appid': 743200, 'playtime_forever': 0}, {'appid': 743201, 'playtime_forever': 0}, {'appid': 747890, 'playtime_forever': 0}, {'appid': 755840, 'playtime_forever': 0}, {'appid': 759560, 'playtime_forever': 0}, {'appid': 762420, 'playtime_forever': 0}, {'appid': 762440, 'playtime_forever': 0}, {'appid': 762450, 'playtime_forever': 0}, {'appid': 775050, 'playtime_forever': 0}, {'appid': 776900, 'playtime_forever': 0}, {'appid': 783570, 'playtime_forever': 0}, {'appid': 788840, 'playtime_forever': 0}, {'appid': 218620, 'playtime_forever': 138}, {'appid': 743650, 'playtime_forever': 0}, {'appid': 466240, 'playtime_forever': 147}, {'appid': 743090, 'playtime_forever': 0}, {'appid': 215830, 'playtime_forever': 176}, {'appid': 427460, 'playtime_forever': 0}, {'appid': 504370, 'playtime_forever': 44}, {'appid': 755790, 'playtime_forever': 0}, {'appid': 611500, 'playtime_2weeks': 33, 'playtime_forever': 8552}, {'appid': 774861, 'playtime_forever': 14}, {'appid': 433850, 'playtime_forever': 64}, {'appid': 439700, 'playtime_forever': 0}, {'appid': 544920, 'playtime_forever': 46}, {'appid': 608800, 'playtime_forever': 0}, {'appid': 350280, 'playtime_forever': 0}, {'appid': 884660, 'playtime_forever': 52}, {'appid': 304390, 'playtime_forever': 39}, {'appid': 654310, 'playtime_forever': 0}, {'appid': 950100, 'playtime_forever': 0}, {'appid': 421650, 'playtime_forever': 0}]\n"
     ]
    },
    {
     "name": "stdout",
     "output_type": "stream",
     "text": [
      "b'76561198175177483\\n' \n",
      " None\n",
      "b'76561198042649112\\n' \n",
      " [{'appid': 4000, 'playtime_forever': 1134}, {'appid': 220, 'playtime_forever': 131}, {'appid': 340, 'playtime_forever': 0}, {'appid': 400, 'playtime_forever': 0}, {'appid': 2700, 'playtime_forever': 988}, {'appid': 13520, 'playtime_forever': 0}, {'appid': 19900, 'playtime_forever': 0}, {'appid': 20510, 'playtime_forever': 25}, {'appid': 10090, 'playtime_forever': 828}, {'appid': 9480, 'playtime_forever': 0}, {'appid': 3590, 'playtime_forever': 174}, {'appid': 3700, 'playtime_forever': 0}, {'appid': 550, 'playtime_forever': 3241}, {'appid': 35140, 'playtime_forever': 66}, {'appid': 33220, 'playtime_forever': 643}, {'appid': 33900, 'playtime_forever': 6}, {'appid': 33930, 'playtime_forever': 154}, {'appid': 219540, 'playtime_forever': 1}, {'appid': 24780, 'playtime_forever': 0}, {'appid': 8980, 'playtime_forever': 53}, {'appid': 729040, 'playtime_forever': 0}, {'appid': 22380, 'playtime_forever': 57}, {'appid': 40800, 'playtime_forever': 9}, {'appid': 42910, 'playtime_forever': 321}, {'appid': 620, 'playtime_forever': 567}, {'appid': 99400, 'playtime_forever': 0}, {'appid': 34330, 'playtime_forever': 382}, {'appid': 105600, 'playtime_forever': 16550}, {'appid': 44320, 'playtime_forever': 378}, {'appid': 321040, 'playtime_forever': 0}, {'appid': 24240, 'playtime_forever': 428}, {'appid': 110800, 'playtime_forever': 208}, {'appid': 72850, 'playtime_forever': 69}, {'appid': 16450, 'playtime_forever': 0}, {'appid': 21090, 'playtime_forever': 98}, {'appid': 21100, 'playtime_forever': 0}, {'appid': 21110, 'playtime_forever': 0}, {'appid': 21120, 'playtime_forever': 0}, {'appid': 105450, 'playtime_forever': 703}, {'appid': 37400, 'playtime_forever': 0}, {'appid': 37420, 'playtime_forever': 0}, {'appid': 98300, 'playtime_forever': 179}, {'appid': 63380, 'playtime_forever': 0}, {'appid': 48800, 'playtime_forever': 1311}, {'appid': 113200, 'playtime_forever': 0}, {'appid': 99410, 'playtime_forever': 0}, {'appid': 10, 'playtime_forever': 46}, {'appid': 80, 'playtime_forever': 0}, {'appid': 100, 'playtime_forever': 0}, {'appid': 240, 'playtime_forever': 41}, {'appid': 730, 'playtime_forever': 121162}, {'appid': 202970, 'playtime_forever': 0}, {'appid': 202990, 'playtime_forever': 0}, {'appid': 212910, 'playtime_forever': 0}, {'appid': 200260, 'playtime_forever': 0}, {'appid': 49520, 'playtime_forever': 2159}, {'appid': 205100, 'playtime_forever': 71}, {'appid': 205790, 'playtime_forever': 0}, {'appid': 219640, 'playtime_forever': 104}, {'appid': 220240, 'playtime_forever': 200}, {'appid': 102600, 'playtime_forever': 0}, {'appid': 201790, 'playtime_forever': 0}, {'appid': 17460, 'playtime_forever': 0}, {'appid': 24980, 'playtime_forever': 0}, {'appid': 220440, 'playtime_forever': 0}, {'appid': 227300, 'playtime_forever': 11550}, {'appid': 51100, 'playtime_forever': 8}, {'appid': 109600, 'playtime_forever': 2161}, {'appid': 200210, 'playtime_forever': 16}, {'appid': 211500, 'playtime_forever': 13}, {'appid': 212160, 'playtime_forever': 239}, {'appid': 218230, 'playtime_forever': 120}, {'appid': 1083500, 'playtime_forever': 0}, {'appid': 230410, 'playtime_forever': 174}, {'appid': 238960, 'playtime_forever': 0}, {'appid': 243870, 'playtime_forever': 221}, {'appid': 223710, 'playtime_forever': 113}, {'appid': 242720, 'playtime_forever': 0}, {'appid': 262410, 'playtime_forever': 23}, {'appid': 216150, 'playtime_forever': 1285}, {'appid': 224260, 'playtime_forever': 773}, {'appid': 226320, 'playtime_forever': 290}, {'appid': 253710, 'playtime_forever': 39}, {'appid': 34870, 'playtime_forever': 66}, {'appid': 221040, 'playtime_forever': 50}, {'appid': 233450, 'playtime_forever': 2104}, {'appid': 232770, 'playtime_forever': 0}, {'appid': 216250, 'playtime_forever': 325}, {'appid': 242760, 'playtime_forever': 683}, {'appid': 242780, 'playtime_forever': 0}, {'appid': 242860, 'playtime_forever': 85}, {'appid': 242920, 'playtime_forever': 756}, {'appid': 1250, 'playtime_forever': 782}, {'appid': 35420, 'playtime_forever': 0}, {'appid': 239450, 'playtime_forever': 0}, {'appid': 244850, 'playtime_forever': 7388}, {'appid': 207140, 'playtime_forever': 108}, {'appid': 368730, 'playtime_forever': 0}, {'appid': 45740, 'playtime_forever': 104}, {'appid': 246900, 'playtime_forever': 1142}, {'appid': 255520, 'playtime_forever': 51}, {'appid': 265210, 'playtime_forever': 25}, {'appid': 247020, 'playtime_forever': 39}, {'appid': 244210, 'playtime_forever': 1055}, {'appid': 248820, 'playtime_forever': 729}, {'appid': 218620, 'playtime_forever': 13218}, {'appid': 238280, 'playtime_forever': 29}, {'appid': 209000, 'playtime_forever': 452}, {'appid': 239820, 'playtime_forever': 438}, {'appid': 206420, 'playtime_forever': 664}, {'appid': 252490, 'playtime_forever': 4737}, {'appid': 700580, 'playtime_forever': 0}, {'appid': 252950, 'playtime_forever': 711}, {'appid': 253880, 'playtime_forever': 0}, {'appid': 259280, 'playtime_forever': 0}, {'appid': 259300, 'playtime_forever': 0}, {'appid': 255220, 'playtime_forever': 367}, {'appid': 107410, 'playtime_forever': 5588}, {'appid': 242050, 'playtime_forever': 1592}, {'appid': 24010, 'playtime_forever': 2854}, {'appid': 217100, 'playtime_forever': 0}, {'appid': 262080, 'playtime_forever': 0}, {'appid': 263280, 'playtime_forever': 2515}, {'appid': 367690, 'playtime_forever': 0}, {'appid': 264710, 'playtime_forever': 579}, {'appid': 211820, 'playtime_forever': 1378}, {'appid': 367540, 'playtime_forever': 0}, {'appid': 267490, 'playtime_forever': 80}, {'appid': 221100, 'playtime_forever': 443}, {'appid': 268650, 'playtime_forever': 13}, {'appid': 269790, 'playtime_forever': 79}, {'appid': 270880, 'playtime_forever': 6123}, {'appid': 8930, 'playtime_forever': 1139}, {'appid': 273110, 'playtime_forever': 14}, {'appid': 274190, 'playtime_forever': 527}, {'appid': 274920, 'playtime_forever': 193}, {'appid': 251570, 'playtime_forever': 4078}, {'appid': 275490, 'playtime_forever': 0}, {'appid': 230840, 'playtime_forever': 59}, {'appid': 235210, 'playtime_forever': 0}, {'appid': 285330, 'playtime_forever': 0}, {'appid': 286160, 'playtime_forever': 1391}, {'appid': 289950, 'playtime_forever': 2327}, {'appid': 290300, 'playtime_forever': 197}, {'appid': 226860, 'playtime_forever': 311}, {'appid': 201810, 'playtime_forever': 1015}, {'appid': 295110, 'playtime_forever': 843}, {'appid': 362300, 'playtime_forever': 0}, {'appid': 433850, 'playtime_forever': 98}, {'appid': 439700, 'playtime_forever': 0}, {'appid': 296050, 'playtime_forever': 0}, {'appid': 301220, 'playtime_forever': 0}, {'appid': 301520, 'playtime_forever': 3098}, {'appid': 302080, 'playtime_forever': 106}, {'appid': 303470, 'playtime_forever': 0}, {'appid': 238090, 'playtime_forever': 0}, {'appid': 306020, 'playtime_forever': 335}, {'appid': 310560, 'playtime_forever': 188}, {'appid': 313120, 'playtime_forever': 227}, {'appid': 313160, 'playtime_forever': 18240}, {'appid': 227940, 'playtime_forever': 250}, {'appid': 241560, 'playtime_forever': 1585}, {'appid': 314160, 'playtime_forever': 892}, {'appid': 10150, 'playtime_forever': 155}, {'appid': 115320, 'playtime_forever': 0}, {'appid': 289650, 'playtime_forever': 1399}, {'appid': 354380, 'playtime_forever': 29}, {'appid': 6850, 'playtime_forever': 0}, {'appid': 6860, 'playtime_forever': 0}, {'appid': 6900, 'playtime_forever': 0}, {'appid': 203140, 'playtime_forever': 366}, {'appid': 205930, 'playtime_forever': 0}, {'appid': 247430, 'playtime_forever': 0}, {'appid': 42700, 'playtime_forever': 337}, {'appid': 42710, 'playtime_forever': 11}, {'appid': 214630, 'playtime_forever': 0}, {'appid': 214640, 'playtime_forever': 0}, {'appid': 289930, 'playtime_forever': 846}, {'appid': 265550, 'playtime_forever': 0}, {'appid': 323190, 'playtime_forever': 0}, {'appid': 323370, 'playtime_forever': 745}, {'appid': 323610, 'playtime_forever': 515}, {'appid': 209650, 'playtime_forever': 136}, {'appid': 209660, 'playtime_forever': 2}, {'appid': 324080, 'playtime_forever': 262}, {'appid': 241930, 'playtime_forever': 62}, {'appid': 324310, 'playtime_forever': 801}, {'appid': 239140, 'playtime_forever': 2997}, {'appid': 258970, 'playtime_forever': 221}, {'appid': 261640, 'playtime_forever': 445}, {'appid': 21000, 'playtime_forever': 30}, {'appid': 213330, 'playtime_forever': 0}, {'appid': 313690, 'playtime_forever': 0}, {'appid': 274940, 'playtime_forever': 0}, {'appid': 298110, 'playtime_forever': 211}, {'appid': 305620, 'playtime_forever': 64}, {'appid': 323470, 'playtime_forever': 768}, {'appid': 333930, 'playtime_forever': 93}, {'appid': 333950, 'playtime_forever': 76}, {'appid': 349110, 'playtime_forever': 0}, {'appid': 919670, 'playtime_forever': 0}, {'appid': 236110, 'playtime_forever': 627}, {'appid': 337360, 'playtime_forever': 0}, {'appid': 250900, 'playtime_forever': 126}, {'appid': 21690, 'playtime_forever': 358}, {'appid': 254700, 'playtime_forever': 0}, {'appid': 341800, 'playtime_forever': 72}, {'appid': 304240, 'playtime_forever': 0}, {'appid': 271590, 'playtime_forever': 21167}, {'appid': 346110, 'playtime_2weeks': 6863, 'playtime_forever': 39900}, {'appid': 407530, 'playtime_forever': 0}, {'appid': 346900, 'playtime_forever': 8603}, {'appid': 347040, 'playtime_forever': 0}, {'appid': 350110, 'playtime_forever': 53}, {'appid': 350640, 'playtime_forever': 57}, {'appid': 351570, 'playtime_forever': 0}, {'appid': 311560, 'playtime_forever': 573}, {'appid': 352400, 'playtime_forever': 146}, {'appid': 255710, 'playtime_forever': 682}, {'appid': 7670, 'playtime_forever': 85}, {'appid': 8850, 'playtime_forever': 0}, {'appid': 8870, 'playtime_forever': 0}, {'appid': 409710, 'playtime_forever': 0}, {'appid': 409720, 'playtime_forever': 0}, {'appid': 235540, 'playtime_forever': 297}, {'appid': 306130, 'playtime_forever': 233}, {'appid': 45770, 'playtime_forever': 0}, {'appid': 359050, 'playtime_forever': 0}, {'appid': 359320, 'playtime_forever': 2679}, {'appid': 360170, 'playtime_forever': 50}, {'appid': 232090, 'playtime_forever': 2536}, {'appid': 232150, 'playtime_forever': 0}, {'appid': 361420, 'playtime_forever': 1400}, {'appid': 363520, 'playtime_forever': 75}, {'appid': 228880, 'playtime_forever': 318}, {'appid': 507490, 'playtime_forever': 0}, {'appid': 363970, 'playtime_forever': 109415}, {'appid': 364940, 'playtime_forever': 0}, {'appid': 365450, 'playtime_forever': 96}, {'appid': 365590, 'playtime_forever': 3194}, {'appid': 524440, 'playtime_forever': 0}, {'appid': 365720, 'playtime_forever': 0}, {'appid': 234630, 'playtime_forever': 4247}, {'appid': 366844, 'playtime_forever': 0}, {'appid': 322330, 'playtime_forever': 819}, {'appid': 292030, 'playtime_forever': 21}, {'appid': 374320, 'playtime_forever': 0}, {'appid': 376870, 'playtime_forever': 0}, {'appid': 378860, 'playtime_forever': 1268}, {'appid': 381210, 'playtime_forever': 28}, {'appid': 382310, 'playtime_forever': 1494}, {'appid': 383120, 'playtime_forever': 6705}, {'appid': 530870, 'playtime_forever': 0}, {'appid': 383150, 'playtime_forever': 0}, {'appid': 383180, 'playtime_forever': 225}, {'appid': 385770, 'playtime_forever': 7318}, {'appid': 386070, 'playtime_forever': 61}, {'appid': 387990, 'playtime_forever': 543}, {'appid': 352460, 'playtime_forever': 63}, {'appid': 392580, 'playtime_forever': 39}, {'appid': 394690, 'playtime_forever': 934}, {'appid': 402020, 'playtime_forever': 74}, {'appid': 234140, 'playtime_forever': 1107}, {'appid': 402710, 'playtime_forever': 1216}, {'appid': 393380, 'playtime_forever': 136}, {'appid': 774941, 'playtime_forever': 0}, {'appid': 311210, 'playtime_forever': 1672}, {'appid': 455130, 'playtime_forever': 0}, {'appid': 298630, 'playtime_forever': 433}, {'appid': 388060, 'playtime_forever': 0}, {'appid': 299360, 'playtime_forever': 103}, {'appid': 364360, 'playtime_forever': 2834}, {'appid': 413150, 'playtime_forever': 3012}, {'appid': 280790, 'playtime_forever': 44}, {'appid': 225540, 'playtime_forever': 3207}, {'appid': 418030, 'playtime_forever': 518}, {'appid': 208650, 'playtime_forever': 262}, {'appid': 304580, 'playtime_forever': 397}, {'appid': 420440, 'playtime_forever': 27}, {'appid': 368500, 'playtime_forever': 116}, {'appid': 424590, 'playtime_forever': 86}, {'appid': 391220, 'playtime_forever': 439}, {'appid': 339340, 'playtime_forever': 0}, {'appid': 427520, 'playtime_forever': 24466}, {'appid': 359550, 'playtime_forever': 615}, {'appid': 623990, 'playtime_forever': 0}, {'appid': 431240, 'playtime_forever': 491}, {'appid': 244930, 'playtime_forever': 41}, {'appid': 437220, 'playtime_forever': 20}, {'appid': 443110, 'playtime_forever': 363}, {'appid': 444090, 'playtime_forever': 288}, {'appid': 596350, 'playtime_forever': 0}, {'appid': 444560, 'playtime_forever': 9}, {'appid': 445220, 'playtime_forever': 4333}, {'appid': 445770, 'playtime_forever': 37}, {'appid': 446800, 'playtime_forever': 1159}, {'appid': 371660, 'playtime_forever': 42}, {'appid': 447020, 'playtime_forever': 21163}, {'appid': 451340, 'playtime_forever': 632}, {'appid': 452780, 'playtime_forever': 3392}, {'appid': 462930, 'playtime_forever': 747}, {'appid': 463530, 'playtime_forever': 350}, {'appid': 377160, 'playtime_forever': 0}, {'appid': 390340, 'playtime_forever': 0}, {'appid': 50130, 'playtime_forever': 0}, {'appid': 485670, 'playtime_forever': 0}, {'appid': 489460, 'playtime_forever': 110}, {'appid': 273350, 'playtime_forever': 61}, {'appid': 427460, 'playtime_forever': 0}, {'appid': 504370, 'playtime_forever': 73}, {'appid': 509980, 'playtime_forever': 94}, {'appid': 515180, 'playtime_forever': 230}, {'appid': 515220, 'playtime_forever': 3312}, {'appid': 312660, 'playtime_forever': 384}, {'appid': 493340, 'playtime_forever': 82}, {'appid': 337000, 'playtime_forever': 182}, {'appid': 530560, 'playtime_forever': 382}, {'appid': 530620, 'playtime_forever': 12}, {'appid': 538810, 'playtime_forever': 96}, {'appid': 541300, 'playtime_forever': 125}, {'appid': 544550, 'playtime_forever': 984}, {'appid': 545100, 'playtime_forever': 0}, {'appid': 548430, 'playtime_forever': 118}, {'appid': 8500, 'playtime_forever': 4703}, {'appid': 447040, 'playtime_forever': 552}, {'appid': 402560, 'playtime_forever': 1}, {'appid': 563560, 'playtime_forever': 102}, {'appid': 573090, 'playtime_forever': 410}, {'appid': 580720, 'playtime_forever': 291}, {'appid': 582660, 'playtime_forever': 66}, {'appid': 588030, 'playtime_forever': 395}, {'appid': 588430, 'playtime_forever': 83}, {'appid': 460930, 'playtime_forever': 0}, {'appid': 598330, 'playtime_forever': 79}, {'appid': 612020, 'playtime_forever': 2149}, {'appid': 621060, 'playtime_forever': 359}, {'appid': 629910, 'playtime_forever': 6775}, {'appid': 644930, 'playtime_forever': 113}, {'appid': 386180, 'playtime_forever': 325}, {'appid': 665300, 'playtime_forever': 6193}, {'appid': 666860, 'playtime_forever': 238}, {'appid': 673610, 'playtime_forever': 109}, {'appid': 673950, 'playtime_forever': 896}, {'appid': 674940, 'playtime_forever': 45}, {'appid': 675010, 'playtime_forever': 539}, {'appid': 676440, 'playtime_forever': 0}, {'appid': 697610, 'playtime_forever': 68}, {'appid': 712530, 'playtime_forever': 0}, {'appid': 772070, 'playtime_forever': 2}, {'appid': 504710, 'playtime_forever': 0}, {'appid': 785160, 'playtime_forever': 558}, {'appid': 785660, 'playtime_forever': 0}, {'appid': 825310, 'playtime_forever': 0}, {'appid': 837900, 'playtime_forever': 186}, {'appid': 737800, 'playtime_forever': 250}, {'appid': 787860, 'playtime_forever': 412}, {'appid': 707590, 'playtime_forever': 4446}]\n"
     ]
    }
   ],
   "source": [
    "for user_id in lst_user_id[:5]:\n",
    "    base_url = 'http://api.steampowered.com/IPlayerService/GetOwnedGames/v0001/'\n",
    "    params = {\n",
    "        'key' : 'C509C52E59B304D96B874CA379C34ED7',\n",
    "        'steamid' : user_id.strip(),\n",
    "        'format' : 'json'         \n",
    "    }\n",
    "    r = requests.get(base_url, params = params)\n",
    "    user_inventory = r.json().get('response').get('games')\n",
    "    time.sleep(.5)\n",
    "    print(user_id, '\\n', user_inventory)"
   ]
  },
  {
   "cell_type": "code",
   "execution_count": 11,
   "metadata": {},
   "outputs": [],
   "source": [
    "def worker(lst_user_id_temp):\n",
    "    dic_temp = {}\n",
    "    for user_id in lst_user_id_temp:\n",
    "        base_url = 'http://api.steampowered.com/IPlayerService/GetOwnedGames/v0001/'\n",
    "        params = {\n",
    "            'key' : 'D0C62157A8941F12A687382B6D635449',\n",
    "            'steamid' : user_id.strip(),\n",
    "            'format' : 'json' }\n",
    "        r = requests.get(base_url, params = params)\n",
    "        user_inventory = r.json().get('response').get('games')\n",
    "        dic_temp.update({user_id.strip():user_inventory})\n",
    "        time.sleep(.5)\n",
    "    return dic_temp"
   ]
  },
  {
   "cell_type": "code",
   "execution_count": 12,
   "metadata": {},
   "outputs": [
    {
     "data": {
      "text/plain": [
       "100"
      ]
     },
     "execution_count": 12,
     "metadata": {},
     "output_type": "execute_result"
    }
   ],
   "source": [
    "len(lst_user_id)"
   ]
  },
  {
   "cell_type": "code",
   "execution_count": 45,
   "metadata": {},
   "outputs": [
    {
     "name": "stdout",
     "output_type": "stream",
     "text": [
      "Status: [>>>>>>>>>>>>>>>>>>>>>>>>>>>>>>>>>>>>>>>>>>>>>>>>>>>>>>>>>>>>>>>>>>>>>>>>>>>>>>>>>>>>>>>>>>>>>>>>>>>>] 100.00% \n",
      "\n"
     ]
    }
   ],
   "source": [
    "p = Pool(2)\n",
    "\n",
    "total_count = len(lst_user_id)\n",
    "current_count = 0\n",
    "show_work_status(0, total_count, current_count)\n",
    "\n",
    "dic_master = {}\n",
    "for i in split_list(lst_user_id,50):\n",
    "    lst_temp_dic = p.map(worker, split_list(i,25))\n",
    "    for j in lst_temp_dic:\n",
    "        dic_master.update(j)\n",
    "    show_work_status(len(i), total_count, current_count)\n",
    "    current_count += len(i)\n",
    "    time.sleep(5)"
   ]
  },
  {
   "cell_type": "code",
   "execution_count": 46,
   "metadata": {},
   "outputs": [
    {
     "name": "stdout",
     "output_type": "stream",
     "text": [
      "b'76561198158086086'\n",
      "b'76561198074188133'\n"
     ]
    }
   ],
   "source": [
    "i = 0\n",
    "for keys in list(dic_master.keys()):\n",
    "    print(keys)\n",
    "    i +=1\n",
    "    if i ==2:\n",
    "        break"
   ]
  },
  {
   "cell_type": "code",
   "execution_count": 47,
   "metadata": {},
   "outputs": [
    {
     "name": "stdout",
     "output_type": "stream",
     "text": [
      "b'76561198158086086' None\n",
      "<class 'bytes'>\n",
      "<class 'NoneType'>\n",
      "b'76561198074188133' [{'appid': 4000, 'playtime_forever': 3415}, {'appid': 34030, 'playtime_forever': 16526}, {'appid': 42680, 'playtime_forever': 4631}, {'appid': 42690, 'playtime_forever': 11055}, {'appid': 207610, 'playtime_forever': 126}, {'appid': 50300, 'playtime_forever': 625}, {'appid': 104900, 'playtime_forever': 173}, {'appid': 227300, 'playtime_forever': 1447}, {'appid': 113400, 'playtime_forever': 1120}, {'appid': 203290, 'playtime_forever': 4008}, {'appid': 206210, 'playtime_forever': 114}, {'appid': 211500, 'playtime_forever': 11}, {'appid': 218230, 'playtime_forever': 327}, {'appid': 1083500, 'playtime_forever': 0}, {'appid': 236390, 'playtime_forever': 1055}, {'appid': 107400, 'playtime_forever': 0}, {'appid': 224260, 'playtime_forever': 1283}, {'appid': 65790, 'playtime_forever': 0}, {'appid': 233450, 'playtime_forever': 2841}, {'appid': 217200, 'playtime_forever': 5}, {'appid': 242760, 'playtime_forever': 2168}, {'appid': 107410, 'playtime_forever': 30813}, {'appid': 239030, 'playtime_forever': 812}, {'appid': 218620, 'playtime_forever': 1066}, {'appid': 251060, 'playtime_forever': 1292}, {'appid': 252950, 'playtime_forever': 5040}, {'appid': 270880, 'playtime_forever': 1466}, {'appid': 8930, 'playtime_forever': 3817}, {'appid': 271590, 'playtime_forever': 5969}, {'appid': 213670, 'playtime_forever': 1008}, {'appid': 281990, 'playtime_forever': 2675}, {'appid': 286160, 'playtime_forever': 485}, {'appid': 286690, 'playtime_forever': 75}, {'appid': 287390, 'playtime_forever': 0}, {'appid': 301520, 'playtime_forever': 35}, {'appid': 304050, 'playtime_forever': 102}, {'appid': 304930, 'playtime_forever': 1923}, {'appid': 310560, 'playtime_forever': 283}, {'appid': 311690, 'playtime_forever': 282}, {'appid': 227940, 'playtime_forever': 102}, {'appid': 200110, 'playtime_forever': 640}, {'appid': 205790, 'playtime_forever': 0}, {'appid': 241930, 'playtime_forever': 2949}, {'appid': 239140, 'playtime_forever': 1418}, {'appid': 730, 'playtime_forever': 32116}, {'appid': 282070, 'playtime_forever': 560}, {'appid': 250900, 'playtime_forever': 218}, {'appid': 339610, 'playtime_forever': 375}, {'appid': 341800, 'playtime_forever': 330}, {'appid': 342200, 'playtime_forever': 0}, {'appid': 349700, 'playtime_forever': 58}, {'appid': 255710, 'playtime_forever': 15965}, {'appid': 356370, 'playtime_forever': 186}, {'appid': 362620, 'playtime_forever': 2277}, {'appid': 366890, 'playtime_forever': 2}, {'appid': 366910, 'playtime_forever': 657}, {'appid': 292030, 'playtime_forever': 9426}, {'appid': 377160, 'playtime_forever': 6824}, {'appid': 379430, 'playtime_forever': 7338}, {'appid': 380600, 'playtime_forever': 75}, {'appid': 384180, 'playtime_forever': 334}, {'appid': 383870, 'playtime_forever': 316}, {'appid': 385770, 'playtime_forever': 9}, {'appid': 386360, 'playtime_forever': 177}, {'appid': 858460, 'playtime_forever': 0}, {'appid': 291550, 'playtime_forever': 132}, {'appid': 390670, 'playtime_forever': 364}, {'appid': 391040, 'playtime_forever': 4462}, {'appid': 352460, 'playtime_forever': 139}, {'appid': 392110, 'playtime_forever': 78}, {'appid': 396750, 'playtime_forever': 285}, {'appid': 393380, 'playtime_forever': 1800}, {'appid': 774941, 'playtime_forever': 0}, {'appid': 299360, 'playtime_forever': 0}, {'appid': 413150, 'playtime_forever': 725}, {'appid': 415200, 'playtime_forever': 3269}, {'appid': 417860, 'playtime_forever': 75}, {'appid': 368500, 'playtime_forever': 3006}, {'appid': 268500, 'playtime_forever': 2641}, {'appid': 431240, 'playtime_forever': 405}, {'appid': 236870, 'playtime_forever': 455}, {'appid': 444560, 'playtime_forever': 1}, {'appid': 310380, 'playtime_forever': 29}, {'appid': 394360, 'playtime_forever': 16430}, {'appid': 477160, 'playtime_forever': 81}, {'appid': 485980, 'playtime_forever': 578}, {'appid': 214850, 'playtime_forever': 1956}, {'appid': 273350, 'playtime_forever': 981}, {'appid': 319630, 'playtime_forever': 5}, {'appid': 360430, 'playtime_forever': 323}, {'appid': 493340, 'playtime_forever': 2108}, {'appid': 534500, 'playtime_forever': 315}, {'appid': 569480, 'playtime_forever': 649}, {'appid': 578080, 'playtime_forever': 5094}, {'appid': 577800, 'playtime_forever': 6132}, {'appid': 515220, 'playtime_forever': 705}, {'appid': 572410, 'playtime_forever': 984}, {'appid': 665360, 'playtime_forever': 145}, {'appid': 594570, 'playtime_forever': 3462}, {'appid': 435150, 'playtime_forever': 1701}, {'appid': 720380, 'playtime_forever': 28}, {'appid': 779340, 'playtime_forever': 1595}, {'appid': 648350, 'playtime_forever': 474}, {'appid': 552520, 'playtime_forever': 422}, {'appid': 356190, 'playtime_forever': 13}, {'appid': 581320, 'playtime_forever': 1219}]\n",
      "<class 'bytes'>\n",
      "<class 'list'>\n"
     ]
    }
   ],
   "source": [
    "i = 0\n",
    "for user_id, user_inventory in list(dic_master.items()):\n",
    "    print(user_id, user_inventory)\n",
    "    print(type(user_id))\n",
    "    print(type(user_inventory))\n",
    "    i +=1\n",
    "    if i ==2:\n",
    "        break"
   ]
  },
  {
   "cell_type": "code",
   "execution_count": 50,
   "metadata": {},
   "outputs": [],
   "source": [
    "with open('data/crawled_user_inventory.txt', 'w') as f:\n",
    "    for user_id, user_inventory in list(dic_master.items()):\n",
    "        f.write(json.dumps({str(user_id):user_inventory}))\n",
    "        f.write('\\n')"
   ]
  },
  {
   "cell_type": "code",
   "execution_count": 51,
   "metadata": {},
   "outputs": [
    {
     "data": {
      "text/plain": [
       "{'X-eresult': '1', 'Content-Type': 'application/json; charset=UTF-8', 'Vary': 'Accept-Encoding', 'Content-Encoding': 'gzip', 'Content-Length': '2153', 'Expires': 'Fri, 02 Aug 2019 00:04:24 GMT', 'Date': 'Fri, 02 Aug 2019 00:04:24 GMT', 'Connection': 'keep-alive'}"
      ]
     },
     "execution_count": 51,
     "metadata": {},
     "output_type": "execute_result"
    }
   ],
   "source": [
    "r.headers"
   ]
  },
  {
   "cell_type": "code",
   "execution_count": null,
   "metadata": {},
   "outputs": [],
   "source": []
  },
  {
   "cell_type": "code",
   "execution_count": 52,
   "metadata": {},
   "outputs": [],
   "source": [
    "# steam app info"
   ]
  },
  {
   "cell_type": "code",
   "execution_count": 53,
   "metadata": {},
   "outputs": [],
   "source": [
    "r = requests.get('http://steamspy.com/api.php?request=all')\n",
    "dic_app_user = r.json()"
   ]
  },
  {
   "cell_type": "code",
   "execution_count": 57,
   "metadata": {},
   "outputs": [],
   "source": [
    "r = requests.get('http://api.steampowered.com/ISteamApps/GetAppList/v2')\n",
    "dic_app_list = r.json()\n",
    "lst_app_id = [i.get('appid') for i in dic_app_list.get('applist').get('apps')]"
   ]
  },
  {
   "cell_type": "code",
   "execution_count": 58,
   "metadata": {},
   "outputs": [
    {
     "data": {
      "text/plain": [
       "82693"
      ]
     },
     "execution_count": 58,
     "metadata": {},
     "output_type": "execute_result"
    }
   ],
   "source": [
    "len(lst_app_id)"
   ]
  },
  {
   "cell_type": "code",
   "execution_count": 65,
   "metadata": {},
   "outputs": [],
   "source": [
    "path_app_detail = 'data/app_detail.txt'"
   ]
  },
  {
   "cell_type": "markdown",
   "metadata": {},
   "source": [
    "how to get data from webstie. Do not need if you already have app_detail.txt"
   ]
  },
  {
   "cell_type": "code",
   "execution_count": 64,
   "metadata": {},
   "outputs": [
    {
     "name": "stdout",
     "output_type": "stream",
     "text": [
      "Status: [>>>>>>>>>>>>>>>>>>>>>>>>>>>>>>>>>>>>>>>>>>>>>>>>>>>>>>>>>>>>>>>>>>>>>>>>>>>>>>>>>>>>>>>>>>>>>>>>>>>>] 100.00% \n",
      "\n"
     ]
    }
   ],
   "source": [
    "lst_app_id = dic_app_user.keys()\n",
    "total_count = len(lst_app_id)\n",
    "current_count = 0\n",
    "show_work_status(0, total_count, current_count)\n",
    "\n",
    "\n",
    "with open(path_app_detail, 'w') as f:\n",
    "    for app_id in lst_app_id:\n",
    "        url_app_detail = ('http://store.steampowered.com/api/appdetails?appids=%s') % (app_id)\n",
    "        for i in range(3): # 3 times to try\n",
    "            try:\n",
    "                r = requests.get(url_app_detail)\n",
    "                result = r.json()\n",
    "                break\n",
    "            except:\n",
    "                time.sleep(5)\n",
    "                pass\n",
    "        f.write(json.dumps(result))\n",
    "        f.write('\\n')\n",
    "        show_work_status(1, total_count, current_count)\n",
    "        current_count += 1\n",
    "        if current_count % 200 == 0:\n",
    "            time.sleep(300)\n",
    "        else:\n",
    "            time.sleep(.5)"
   ]
  },
  {
   "cell_type": "code",
   "execution_count": 67,
   "metadata": {},
   "outputs": [
    {
     "name": "stdout",
     "output_type": "stream",
     "text": [
      "Status: [>>>>>>>>>>>>>>>>>>>>>>>>>>>>>>>>>>>>>>>>>>>>>>>>>>>>>>>>>>>>>>>>>>>>>>>>>>>>>>>>>>>>>>>>>>>>>>>>>>>>] 100.00% \n",
      "\n"
     ]
    }
   ],
   "source": [
    "with open(path_app_detail, 'r') as f:\n",
    "    dic_steam_app = {'initial_price':{},'name':{},'score':{},'windows':{},'mac':{},'linux':{},'type':{},'release_date':{},'recommendation':{},'header_image':{}}\n",
    "    lst_raw_string = f.readlines()[:3000]\n",
    "    total_count = len(lst_raw_string)\n",
    "    current_count = 0\n",
    "    show_work_status(0, total_count, current_count)\n",
    "    for raw_string in lst_raw_string:\n",
    "        app_data = list(json.loads(raw_string).values())[0]\n",
    "        if app_data != {}:\n",
    "            steam_id = app_data.get('steam_appid')\n",
    "            initial_price = app_data.get('price_overview',{}).get('initial')\n",
    "            if app_data.get('is_free') == True:\n",
    "                initial_price = 0\n",
    "            app_name = app_data.get('name')\n",
    "            critic_score = app_data.get('metacritic', {}).get('score')\n",
    "            app_type = app_data.get('type')\n",
    "            for (platform, is_supported) in app_data.get('platforms',{}).items():\n",
    "                if is_supported == True:\n",
    "                    dic_steam_app[platform].update({steam_id:1})\n",
    "            if app_data.get('release_date',{}).get('coming_soon') == False:\n",
    "                release_date = app_data.get('release_date',{}).get('date')\n",
    "                if not release_date == '':\n",
    "                    try:\n",
    "                        release_date = datetime.strptime(release_date, '%b %d, %Y')\n",
    "                    except:\n",
    "                        try:\n",
    "                            release_date = datetime.strptime(release_date, '%d %b, %Y')\n",
    "                        except:\n",
    "                            release_date = None\n",
    "                    \n",
    "\n",
    "            recommendation = app_data.get('recommendations',{}).get('total')\n",
    "            header_image = app_data.get('header_image')\n",
    "            dic_steam_app['initial_price'].update({steam_id:initial_price})\n",
    "            dic_steam_app['name'].update({steam_id:app_name})\n",
    "            dic_steam_app['score'].update({steam_id:critic_score})\n",
    "            dic_steam_app['type'].update({steam_id:app_type})\n",
    "            dic_steam_app['release_date'].update({steam_id:release_date})\n",
    "            dic_steam_app['recommendation'].update({steam_id:recommendation})\n",
    "            dic_steam_app['header_image'].update({steam_id:header_image})\n",
    "        show_work_status(1, total_count, current_count)\n",
    "        current_count += 1"
   ]
  },
  {
   "cell_type": "code",
   "execution_count": 68,
   "metadata": {},
   "outputs": [],
   "source": [
    "import pandas as pd\n",
    "df_app_info = pd.DataFrame(dic_steam_app)"
   ]
  },
  {
   "cell_type": "code",
   "execution_count": 69,
   "metadata": {},
   "outputs": [
    {
     "data": {
      "text/html": [
       "<div>\n",
       "<style scoped>\n",
       "    .dataframe tbody tr th:only-of-type {\n",
       "        vertical-align: middle;\n",
       "    }\n",
       "\n",
       "    .dataframe tbody tr th {\n",
       "        vertical-align: top;\n",
       "    }\n",
       "\n",
       "    .dataframe thead th {\n",
       "        text-align: right;\n",
       "    }\n",
       "</style>\n",
       "<table border=\"1\" class=\"dataframe\">\n",
       "  <thead>\n",
       "    <tr style=\"text-align: right;\">\n",
       "      <th></th>\n",
       "      <th>initial_price</th>\n",
       "      <th>name</th>\n",
       "      <th>score</th>\n",
       "      <th>windows</th>\n",
       "      <th>mac</th>\n",
       "      <th>linux</th>\n",
       "      <th>type</th>\n",
       "      <th>release_date</th>\n",
       "      <th>recommendation</th>\n",
       "      <th>header_image</th>\n",
       "    </tr>\n",
       "  </thead>\n",
       "  <tbody>\n",
       "    <tr>\n",
       "      <th>60</th>\n",
       "      <td>499</td>\n",
       "      <td>Ricochet</td>\n",
       "      <td>NaN</td>\n",
       "      <td>1</td>\n",
       "      <td>1.0</td>\n",
       "      <td>1.0</td>\n",
       "      <td>game</td>\n",
       "      <td>2000-11-01</td>\n",
       "      <td>2109.0</td>\n",
       "      <td>http://cdn.akamai.steamstatic.com/steam/apps/6...</td>\n",
       "    </tr>\n",
       "    <tr>\n",
       "      <th>300</th>\n",
       "      <td>999</td>\n",
       "      <td>Day of Defeat: Source</td>\n",
       "      <td>80.0</td>\n",
       "      <td>1</td>\n",
       "      <td>1.0</td>\n",
       "      <td>1.0</td>\n",
       "      <td>game</td>\n",
       "      <td>2010-07-12</td>\n",
       "      <td>7753.0</td>\n",
       "      <td>http://cdn.akamai.steamstatic.com/steam/apps/3...</td>\n",
       "    </tr>\n",
       "    <tr>\n",
       "      <th>550</th>\n",
       "      <td>1999</td>\n",
       "      <td>Left 4 Dead 2</td>\n",
       "      <td>89.0</td>\n",
       "      <td>1</td>\n",
       "      <td>1.0</td>\n",
       "      <td>1.0</td>\n",
       "      <td>game</td>\n",
       "      <td>2009-11-16</td>\n",
       "      <td>159088.0</td>\n",
       "      <td>http://cdn.akamai.steamstatic.com/steam/apps/5...</td>\n",
       "    </tr>\n",
       "    <tr>\n",
       "      <th>1300</th>\n",
       "      <td>999</td>\n",
       "      <td>SiN Episodes: Emergence</td>\n",
       "      <td>75.0</td>\n",
       "      <td>1</td>\n",
       "      <td>NaN</td>\n",
       "      <td>NaN</td>\n",
       "      <td>game</td>\n",
       "      <td>2006-05-10</td>\n",
       "      <td>408.0</td>\n",
       "      <td>http://cdn.akamai.steamstatic.com/steam/apps/1...</td>\n",
       "    </tr>\n",
       "    <tr>\n",
       "      <th>1640</th>\n",
       "      <td>649</td>\n",
       "      <td>Disciples II: Gallean's Return</td>\n",
       "      <td>84.0</td>\n",
       "      <td>1</td>\n",
       "      <td>NaN</td>\n",
       "      <td>NaN</td>\n",
       "      <td>game</td>\n",
       "      <td>2006-07-06</td>\n",
       "      <td>448.0</td>\n",
       "      <td>http://cdn.akamai.steamstatic.com/steam/apps/1...</td>\n",
       "    </tr>\n",
       "  </tbody>\n",
       "</table>\n",
       "</div>"
      ],
      "text/plain": [
       "      initial_price                            name  score  windows  mac  \\\n",
       "60              499                        Ricochet    NaN        1  1.0   \n",
       "300             999           Day of Defeat: Source   80.0        1  1.0   \n",
       "550            1999                   Left 4 Dead 2   89.0        1  1.0   \n",
       "1300            999         SiN Episodes: Emergence   75.0        1  NaN   \n",
       "1640            649  Disciples II: Gallean's Return   84.0        1  NaN   \n",
       "\n",
       "      linux  type release_date  recommendation  \\\n",
       "60      1.0  game   2000-11-01          2109.0   \n",
       "300     1.0  game   2010-07-12          7753.0   \n",
       "550     1.0  game   2009-11-16        159088.0   \n",
       "1300    NaN  game   2006-05-10           408.0   \n",
       "1640    NaN  game   2006-07-06           448.0   \n",
       "\n",
       "                                           header_image  \n",
       "60    http://cdn.akamai.steamstatic.com/steam/apps/6...  \n",
       "300   http://cdn.akamai.steamstatic.com/steam/apps/3...  \n",
       "550   http://cdn.akamai.steamstatic.com/steam/apps/5...  \n",
       "1300  http://cdn.akamai.steamstatic.com/steam/apps/1...  \n",
       "1640  http://cdn.akamai.steamstatic.com/steam/apps/1...  "
      ]
     },
     "execution_count": 69,
     "metadata": {},
     "output_type": "execute_result"
    }
   ],
   "source": [
    "df_app_info.head()"
   ]
  },
  {
   "cell_type": "code",
   "execution_count": 75,
   "metadata": {},
   "outputs": [
    {
     "ename": "OperationalError",
     "evalue": "(pymysql.err.OperationalError) (2003, \"Can't connect to MySQL server on 'localhost' ([Errno 61] Connection refused)\") (Background on this error at: http://sqlalche.me/e/e3q8)",
     "output_type": "error",
     "traceback": [
      "\u001b[0;31m---------------------------------------------------------------------------\u001b[0m",
      "\u001b[0;31mConnectionRefusedError\u001b[0m                    Traceback (most recent call last)",
      "\u001b[0;32m~/.local/lib/python3.6/site-packages/pymysql/connections.py\u001b[0m in \u001b[0;36mconnect\u001b[0;34m(self, sock)\u001b[0m\n\u001b[1;32m    582\u001b[0m                                 \u001b[0;34m(\u001b[0m\u001b[0mself\u001b[0m\u001b[0;34m.\u001b[0m\u001b[0mhost\u001b[0m\u001b[0;34m,\u001b[0m \u001b[0mself\u001b[0m\u001b[0;34m.\u001b[0m\u001b[0mport\u001b[0m\u001b[0;34m)\u001b[0m\u001b[0;34m,\u001b[0m \u001b[0mself\u001b[0m\u001b[0;34m.\u001b[0m\u001b[0mconnect_timeout\u001b[0m\u001b[0;34m,\u001b[0m\u001b[0;34m\u001b[0m\u001b[0m\n\u001b[0;32m--> 583\u001b[0;31m                                 **kwargs)\n\u001b[0m\u001b[1;32m    584\u001b[0m                             \u001b[0;32mbreak\u001b[0m\u001b[0;34m\u001b[0m\u001b[0m\n",
      "\u001b[0;32m/anaconda3/lib/python3.6/socket.py\u001b[0m in \u001b[0;36mcreate_connection\u001b[0;34m(address, timeout, source_address)\u001b[0m\n\u001b[1;32m    723\u001b[0m     \u001b[0;32mif\u001b[0m \u001b[0merr\u001b[0m \u001b[0;32mis\u001b[0m \u001b[0;32mnot\u001b[0m \u001b[0;32mNone\u001b[0m\u001b[0;34m:\u001b[0m\u001b[0;34m\u001b[0m\u001b[0m\n\u001b[0;32m--> 724\u001b[0;31m         \u001b[0;32mraise\u001b[0m \u001b[0merr\u001b[0m\u001b[0;34m\u001b[0m\u001b[0m\n\u001b[0m\u001b[1;32m    725\u001b[0m     \u001b[0;32melse\u001b[0m\u001b[0;34m:\u001b[0m\u001b[0;34m\u001b[0m\u001b[0m\n",
      "\u001b[0;32m/anaconda3/lib/python3.6/socket.py\u001b[0m in \u001b[0;36mcreate_connection\u001b[0;34m(address, timeout, source_address)\u001b[0m\n\u001b[1;32m    712\u001b[0m                 \u001b[0msock\u001b[0m\u001b[0;34m.\u001b[0m\u001b[0mbind\u001b[0m\u001b[0;34m(\u001b[0m\u001b[0msource_address\u001b[0m\u001b[0;34m)\u001b[0m\u001b[0;34m\u001b[0m\u001b[0m\n\u001b[0;32m--> 713\u001b[0;31m             \u001b[0msock\u001b[0m\u001b[0;34m.\u001b[0m\u001b[0mconnect\u001b[0m\u001b[0;34m(\u001b[0m\u001b[0msa\u001b[0m\u001b[0;34m)\u001b[0m\u001b[0;34m\u001b[0m\u001b[0m\n\u001b[0m\u001b[1;32m    714\u001b[0m             \u001b[0;31m# Break explicitly a reference cycle\u001b[0m\u001b[0;34m\u001b[0m\u001b[0;34m\u001b[0m\u001b[0m\n",
      "\u001b[0;31mConnectionRefusedError\u001b[0m: [Errno 61] Connection refused",
      "\nDuring handling of the above exception, another exception occurred:\n",
      "\u001b[0;31mOperationalError\u001b[0m                          Traceback (most recent call last)",
      "\u001b[0;32m/anaconda3/lib/python3.6/site-packages/sqlalchemy/engine/base.py\u001b[0m in \u001b[0;36m_wrap_pool_connect\u001b[0;34m(self, fn, connection)\u001b[0m\n\u001b[1;32m   2157\u001b[0m         \u001b[0;32mtry\u001b[0m\u001b[0;34m:\u001b[0m\u001b[0;34m\u001b[0m\u001b[0m\n\u001b[0;32m-> 2158\u001b[0;31m             \u001b[0;32mreturn\u001b[0m \u001b[0mfn\u001b[0m\u001b[0;34m(\u001b[0m\u001b[0;34m)\u001b[0m\u001b[0;34m\u001b[0m\u001b[0m\n\u001b[0m\u001b[1;32m   2159\u001b[0m         \u001b[0;32mexcept\u001b[0m \u001b[0mdialect\u001b[0m\u001b[0;34m.\u001b[0m\u001b[0mdbapi\u001b[0m\u001b[0;34m.\u001b[0m\u001b[0mError\u001b[0m \u001b[0;32mas\u001b[0m \u001b[0me\u001b[0m\u001b[0;34m:\u001b[0m\u001b[0;34m\u001b[0m\u001b[0m\n",
      "\u001b[0;32m/anaconda3/lib/python3.6/site-packages/sqlalchemy/pool.py\u001b[0m in \u001b[0;36mconnect\u001b[0;34m(self)\u001b[0m\n\u001b[1;32m    402\u001b[0m         \u001b[0;32mif\u001b[0m \u001b[0;32mnot\u001b[0m \u001b[0mself\u001b[0m\u001b[0;34m.\u001b[0m\u001b[0m_use_threadlocal\u001b[0m\u001b[0;34m:\u001b[0m\u001b[0;34m\u001b[0m\u001b[0m\n\u001b[0;32m--> 403\u001b[0;31m             \u001b[0;32mreturn\u001b[0m \u001b[0m_ConnectionFairy\u001b[0m\u001b[0;34m.\u001b[0m\u001b[0m_checkout\u001b[0m\u001b[0;34m(\u001b[0m\u001b[0mself\u001b[0m\u001b[0;34m)\u001b[0m\u001b[0;34m\u001b[0m\u001b[0m\n\u001b[0m\u001b[1;32m    404\u001b[0m \u001b[0;34m\u001b[0m\u001b[0m\n",
      "\u001b[0;32m/anaconda3/lib/python3.6/site-packages/sqlalchemy/pool.py\u001b[0m in \u001b[0;36m_checkout\u001b[0;34m(cls, pool, threadconns, fairy)\u001b[0m\n\u001b[1;32m    787\u001b[0m         \u001b[0;32mif\u001b[0m \u001b[0;32mnot\u001b[0m \u001b[0mfairy\u001b[0m\u001b[0;34m:\u001b[0m\u001b[0;34m\u001b[0m\u001b[0m\n\u001b[0;32m--> 788\u001b[0;31m             \u001b[0mfairy\u001b[0m \u001b[0;34m=\u001b[0m \u001b[0m_ConnectionRecord\u001b[0m\u001b[0;34m.\u001b[0m\u001b[0mcheckout\u001b[0m\u001b[0;34m(\u001b[0m\u001b[0mpool\u001b[0m\u001b[0;34m)\u001b[0m\u001b[0;34m\u001b[0m\u001b[0m\n\u001b[0m\u001b[1;32m    789\u001b[0m \u001b[0;34m\u001b[0m\u001b[0m\n",
      "\u001b[0;32m/anaconda3/lib/python3.6/site-packages/sqlalchemy/pool.py\u001b[0m in \u001b[0;36mcheckout\u001b[0;34m(cls, pool)\u001b[0m\n\u001b[1;32m    531\u001b[0m     \u001b[0;32mdef\u001b[0m \u001b[0mcheckout\u001b[0m\u001b[0;34m(\u001b[0m\u001b[0mcls\u001b[0m\u001b[0;34m,\u001b[0m \u001b[0mpool\u001b[0m\u001b[0;34m)\u001b[0m\u001b[0;34m:\u001b[0m\u001b[0;34m\u001b[0m\u001b[0m\n\u001b[0;32m--> 532\u001b[0;31m         \u001b[0mrec\u001b[0m \u001b[0;34m=\u001b[0m \u001b[0mpool\u001b[0m\u001b[0;34m.\u001b[0m\u001b[0m_do_get\u001b[0m\u001b[0;34m(\u001b[0m\u001b[0;34m)\u001b[0m\u001b[0;34m\u001b[0m\u001b[0m\n\u001b[0m\u001b[1;32m    533\u001b[0m         \u001b[0;32mtry\u001b[0m\u001b[0;34m:\u001b[0m\u001b[0;34m\u001b[0m\u001b[0m\n",
      "\u001b[0;32m/anaconda3/lib/python3.6/site-packages/sqlalchemy/pool.py\u001b[0m in \u001b[0;36m_do_get\u001b[0;34m(self)\u001b[0m\n\u001b[1;32m   1192\u001b[0m                 \u001b[0;32mwith\u001b[0m \u001b[0mutil\u001b[0m\u001b[0;34m.\u001b[0m\u001b[0msafe_reraise\u001b[0m\u001b[0;34m(\u001b[0m\u001b[0;34m)\u001b[0m\u001b[0;34m:\u001b[0m\u001b[0;34m\u001b[0m\u001b[0m\n\u001b[0;32m-> 1193\u001b[0;31m                     \u001b[0mself\u001b[0m\u001b[0;34m.\u001b[0m\u001b[0m_dec_overflow\u001b[0m\u001b[0;34m(\u001b[0m\u001b[0;34m)\u001b[0m\u001b[0;34m\u001b[0m\u001b[0m\n\u001b[0m\u001b[1;32m   1194\u001b[0m         \u001b[0;32melse\u001b[0m\u001b[0;34m:\u001b[0m\u001b[0;34m\u001b[0m\u001b[0m\n",
      "\u001b[0;32m/anaconda3/lib/python3.6/site-packages/sqlalchemy/util/langhelpers.py\u001b[0m in \u001b[0;36m__exit__\u001b[0;34m(self, type_, value, traceback)\u001b[0m\n\u001b[1;32m     65\u001b[0m             \u001b[0;32mif\u001b[0m \u001b[0;32mnot\u001b[0m \u001b[0mself\u001b[0m\u001b[0;34m.\u001b[0m\u001b[0mwarn_only\u001b[0m\u001b[0;34m:\u001b[0m\u001b[0;34m\u001b[0m\u001b[0m\n\u001b[0;32m---> 66\u001b[0;31m                 \u001b[0mcompat\u001b[0m\u001b[0;34m.\u001b[0m\u001b[0mreraise\u001b[0m\u001b[0;34m(\u001b[0m\u001b[0mexc_type\u001b[0m\u001b[0;34m,\u001b[0m \u001b[0mexc_value\u001b[0m\u001b[0;34m,\u001b[0m \u001b[0mexc_tb\u001b[0m\u001b[0;34m)\u001b[0m\u001b[0;34m\u001b[0m\u001b[0m\n\u001b[0m\u001b[1;32m     67\u001b[0m         \u001b[0;32melse\u001b[0m\u001b[0;34m:\u001b[0m\u001b[0;34m\u001b[0m\u001b[0m\n",
      "\u001b[0;32m/anaconda3/lib/python3.6/site-packages/sqlalchemy/util/compat.py\u001b[0m in \u001b[0;36mreraise\u001b[0;34m(tp, value, tb, cause)\u001b[0m\n\u001b[1;32m    186\u001b[0m             \u001b[0;32mraise\u001b[0m \u001b[0mvalue\u001b[0m\u001b[0;34m.\u001b[0m\u001b[0mwith_traceback\u001b[0m\u001b[0;34m(\u001b[0m\u001b[0mtb\u001b[0m\u001b[0;34m)\u001b[0m\u001b[0;34m\u001b[0m\u001b[0m\n\u001b[0;32m--> 187\u001b[0;31m         \u001b[0;32mraise\u001b[0m \u001b[0mvalue\u001b[0m\u001b[0;34m\u001b[0m\u001b[0m\n\u001b[0m\u001b[1;32m    188\u001b[0m \u001b[0;34m\u001b[0m\u001b[0m\n",
      "\u001b[0;32m/anaconda3/lib/python3.6/site-packages/sqlalchemy/pool.py\u001b[0m in \u001b[0;36m_do_get\u001b[0;34m(self)\u001b[0m\n\u001b[1;32m   1189\u001b[0m             \u001b[0;32mtry\u001b[0m\u001b[0;34m:\u001b[0m\u001b[0;34m\u001b[0m\u001b[0m\n\u001b[0;32m-> 1190\u001b[0;31m                 \u001b[0;32mreturn\u001b[0m \u001b[0mself\u001b[0m\u001b[0;34m.\u001b[0m\u001b[0m_create_connection\u001b[0m\u001b[0;34m(\u001b[0m\u001b[0;34m)\u001b[0m\u001b[0;34m\u001b[0m\u001b[0m\n\u001b[0m\u001b[1;32m   1191\u001b[0m             \u001b[0;32mexcept\u001b[0m\u001b[0;34m:\u001b[0m\u001b[0;34m\u001b[0m\u001b[0m\n",
      "\u001b[0;32m/anaconda3/lib/python3.6/site-packages/sqlalchemy/pool.py\u001b[0m in \u001b[0;36m_create_connection\u001b[0;34m(self)\u001b[0m\n\u001b[1;32m    349\u001b[0m \u001b[0;34m\u001b[0m\u001b[0m\n\u001b[0;32m--> 350\u001b[0;31m         \u001b[0;32mreturn\u001b[0m \u001b[0m_ConnectionRecord\u001b[0m\u001b[0;34m(\u001b[0m\u001b[0mself\u001b[0m\u001b[0;34m)\u001b[0m\u001b[0;34m\u001b[0m\u001b[0m\n\u001b[0m\u001b[1;32m    351\u001b[0m \u001b[0;34m\u001b[0m\u001b[0m\n",
      "\u001b[0;32m/anaconda3/lib/python3.6/site-packages/sqlalchemy/pool.py\u001b[0m in \u001b[0;36m__init__\u001b[0;34m(self, pool, connect)\u001b[0m\n\u001b[1;32m    476\u001b[0m         \u001b[0;32mif\u001b[0m \u001b[0mconnect\u001b[0m\u001b[0;34m:\u001b[0m\u001b[0;34m\u001b[0m\u001b[0m\n\u001b[0;32m--> 477\u001b[0;31m             \u001b[0mself\u001b[0m\u001b[0;34m.\u001b[0m\u001b[0m__connect\u001b[0m\u001b[0;34m(\u001b[0m\u001b[0mfirst_connect_check\u001b[0m\u001b[0;34m=\u001b[0m\u001b[0;32mTrue\u001b[0m\u001b[0;34m)\u001b[0m\u001b[0;34m\u001b[0m\u001b[0m\n\u001b[0m\u001b[1;32m    478\u001b[0m         \u001b[0mself\u001b[0m\u001b[0;34m.\u001b[0m\u001b[0mfinalize_callback\u001b[0m \u001b[0;34m=\u001b[0m \u001b[0mdeque\u001b[0m\u001b[0;34m(\u001b[0m\u001b[0;34m)\u001b[0m\u001b[0;34m\u001b[0m\u001b[0m\n",
      "\u001b[0;32m/anaconda3/lib/python3.6/site-packages/sqlalchemy/pool.py\u001b[0m in \u001b[0;36m__connect\u001b[0;34m(self, first_connect_check)\u001b[0m\n\u001b[1;32m    670\u001b[0m             \u001b[0mself\u001b[0m\u001b[0;34m.\u001b[0m\u001b[0mstarttime\u001b[0m \u001b[0;34m=\u001b[0m \u001b[0mtime\u001b[0m\u001b[0;34m.\u001b[0m\u001b[0mtime\u001b[0m\u001b[0;34m(\u001b[0m\u001b[0;34m)\u001b[0m\u001b[0;34m\u001b[0m\u001b[0m\n\u001b[0;32m--> 671\u001b[0;31m             \u001b[0mconnection\u001b[0m \u001b[0;34m=\u001b[0m \u001b[0mpool\u001b[0m\u001b[0;34m.\u001b[0m\u001b[0m_invoke_creator\u001b[0m\u001b[0;34m(\u001b[0m\u001b[0mself\u001b[0m\u001b[0;34m)\u001b[0m\u001b[0;34m\u001b[0m\u001b[0m\n\u001b[0m\u001b[1;32m    672\u001b[0m             \u001b[0mpool\u001b[0m\u001b[0;34m.\u001b[0m\u001b[0mlogger\u001b[0m\u001b[0;34m.\u001b[0m\u001b[0mdebug\u001b[0m\u001b[0;34m(\u001b[0m\u001b[0;34m\"Created new connection %r\"\u001b[0m\u001b[0;34m,\u001b[0m \u001b[0mconnection\u001b[0m\u001b[0;34m)\u001b[0m\u001b[0;34m\u001b[0m\u001b[0m\n",
      "\u001b[0;32m/anaconda3/lib/python3.6/site-packages/sqlalchemy/engine/strategies.py\u001b[0m in \u001b[0;36mconnect\u001b[0;34m(connection_record)\u001b[0m\n\u001b[1;32m    105\u001b[0m                             \u001b[0;32mreturn\u001b[0m \u001b[0mconnection\u001b[0m\u001b[0;34m\u001b[0m\u001b[0m\n\u001b[0;32m--> 106\u001b[0;31m                 \u001b[0;32mreturn\u001b[0m \u001b[0mdialect\u001b[0m\u001b[0;34m.\u001b[0m\u001b[0mconnect\u001b[0m\u001b[0;34m(\u001b[0m\u001b[0;34m*\u001b[0m\u001b[0mcargs\u001b[0m\u001b[0;34m,\u001b[0m \u001b[0;34m**\u001b[0m\u001b[0mcparams\u001b[0m\u001b[0;34m)\u001b[0m\u001b[0;34m\u001b[0m\u001b[0m\n\u001b[0m\u001b[1;32m    107\u001b[0m \u001b[0;34m\u001b[0m\u001b[0m\n",
      "\u001b[0;32m/anaconda3/lib/python3.6/site-packages/sqlalchemy/engine/default.py\u001b[0m in \u001b[0;36mconnect\u001b[0;34m(self, *cargs, **cparams)\u001b[0m\n\u001b[1;32m    409\u001b[0m     \u001b[0;32mdef\u001b[0m \u001b[0mconnect\u001b[0m\u001b[0;34m(\u001b[0m\u001b[0mself\u001b[0m\u001b[0;34m,\u001b[0m \u001b[0;34m*\u001b[0m\u001b[0mcargs\u001b[0m\u001b[0;34m,\u001b[0m \u001b[0;34m**\u001b[0m\u001b[0mcparams\u001b[0m\u001b[0;34m)\u001b[0m\u001b[0;34m:\u001b[0m\u001b[0;34m\u001b[0m\u001b[0m\n\u001b[0;32m--> 410\u001b[0;31m         \u001b[0;32mreturn\u001b[0m \u001b[0mself\u001b[0m\u001b[0;34m.\u001b[0m\u001b[0mdbapi\u001b[0m\u001b[0;34m.\u001b[0m\u001b[0mconnect\u001b[0m\u001b[0;34m(\u001b[0m\u001b[0;34m*\u001b[0m\u001b[0mcargs\u001b[0m\u001b[0;34m,\u001b[0m \u001b[0;34m**\u001b[0m\u001b[0mcparams\u001b[0m\u001b[0;34m)\u001b[0m\u001b[0;34m\u001b[0m\u001b[0m\n\u001b[0m\u001b[1;32m    411\u001b[0m \u001b[0;34m\u001b[0m\u001b[0m\n",
      "\u001b[0;32m~/.local/lib/python3.6/site-packages/pymysql/__init__.py\u001b[0m in \u001b[0;36mConnect\u001b[0;34m(*args, **kwargs)\u001b[0m\n\u001b[1;32m     93\u001b[0m     \u001b[0;32mfrom\u001b[0m \u001b[0;34m.\u001b[0m\u001b[0mconnections\u001b[0m \u001b[0;32mimport\u001b[0m \u001b[0mConnection\u001b[0m\u001b[0;34m\u001b[0m\u001b[0m\n\u001b[0;32m---> 94\u001b[0;31m     \u001b[0;32mreturn\u001b[0m \u001b[0mConnection\u001b[0m\u001b[0;34m(\u001b[0m\u001b[0;34m*\u001b[0m\u001b[0margs\u001b[0m\u001b[0;34m,\u001b[0m \u001b[0;34m**\u001b[0m\u001b[0mkwargs\u001b[0m\u001b[0;34m)\u001b[0m\u001b[0;34m\u001b[0m\u001b[0m\n\u001b[0m\u001b[1;32m     95\u001b[0m \u001b[0;34m\u001b[0m\u001b[0m\n",
      "\u001b[0;32m~/.local/lib/python3.6/site-packages/pymysql/connections.py\u001b[0m in \u001b[0;36m__init__\u001b[0;34m(self, host, user, password, database, port, unix_socket, charset, sql_mode, read_default_file, conv, use_unicode, client_flag, cursorclass, init_command, connect_timeout, ssl, read_default_group, compress, named_pipe, autocommit, db, passwd, local_infile, max_allowed_packet, defer_connect, auth_plugin_map, read_timeout, write_timeout, bind_address, binary_prefix, program_name, server_public_key)\u001b[0m\n\u001b[1;32m    324\u001b[0m         \u001b[0;32melse\u001b[0m\u001b[0;34m:\u001b[0m\u001b[0;34m\u001b[0m\u001b[0m\n\u001b[0;32m--> 325\u001b[0;31m             \u001b[0mself\u001b[0m\u001b[0;34m.\u001b[0m\u001b[0mconnect\u001b[0m\u001b[0;34m(\u001b[0m\u001b[0;34m)\u001b[0m\u001b[0;34m\u001b[0m\u001b[0m\n\u001b[0m\u001b[1;32m    326\u001b[0m \u001b[0;34m\u001b[0m\u001b[0m\n",
      "\u001b[0;32m~/.local/lib/python3.6/site-packages/pymysql/connections.py\u001b[0m in \u001b[0;36mconnect\u001b[0;34m(self, sock)\u001b[0m\n\u001b[1;32m    629\u001b[0m                 \u001b[0;32mif\u001b[0m \u001b[0mDEBUG\u001b[0m\u001b[0;34m:\u001b[0m \u001b[0mprint\u001b[0m\u001b[0;34m(\u001b[0m\u001b[0mexc\u001b[0m\u001b[0;34m.\u001b[0m\u001b[0mtraceback\u001b[0m\u001b[0;34m)\u001b[0m\u001b[0;34m\u001b[0m\u001b[0m\n\u001b[0;32m--> 630\u001b[0;31m                 \u001b[0;32mraise\u001b[0m \u001b[0mexc\u001b[0m\u001b[0;34m\u001b[0m\u001b[0m\n\u001b[0m\u001b[1;32m    631\u001b[0m \u001b[0;34m\u001b[0m\u001b[0m\n",
      "\u001b[0;31mOperationalError\u001b[0m: (2003, \"Can't connect to MySQL server on 'localhost' ([Errno 61] Connection refused)\")",
      "\nThe above exception was the direct cause of the following exception:\n",
      "\u001b[0;31mOperationalError\u001b[0m                          Traceback (most recent call last)",
      "\u001b[0;32m<ipython-input-75-b58bc67f2711>\u001b[0m in \u001b[0;36m<module>\u001b[0;34m()\u001b[0m\n\u001b[1;32m      1\u001b[0m \u001b[0mengine\u001b[0m \u001b[0;34m=\u001b[0m \u001b[0mcreate_engine\u001b[0m\u001b[0;34m(\u001b[0m\u001b[0;34m'mysql+pymysql://fairycloudsi@gmail.com:Belief4inyou!@localhost/game_recommendation?charset=utf8mb4'\u001b[0m\u001b[0;34m)\u001b[0m\u001b[0;34m\u001b[0m\u001b[0m\n\u001b[0;32m----> 2\u001b[0;31m \u001b[0mdf_app_info\u001b[0m\u001b[0;34m.\u001b[0m\u001b[0mto_sql\u001b[0m\u001b[0;34m(\u001b[0m\u001b[0;34m'tbl_app_info_test'\u001b[0m\u001b[0;34m,\u001b[0m\u001b[0mengine\u001b[0m\u001b[0;34m,\u001b[0m \u001b[0mif_exists\u001b[0m\u001b[0;34m=\u001b[0m\u001b[0;34m'replace'\u001b[0m\u001b[0;34m)\u001b[0m\u001b[0;34m\u001b[0m\u001b[0m\n\u001b[0m",
      "\u001b[0;32m/anaconda3/lib/python3.6/site-packages/pandas/core/generic.py\u001b[0m in \u001b[0;36mto_sql\u001b[0;34m(self, name, con, schema, if_exists, index, index_label, chunksize, dtype)\u001b[0m\n\u001b[1;32m   2125\u001b[0m         sql.to_sql(self, name, con, schema=schema, if_exists=if_exists,\n\u001b[1;32m   2126\u001b[0m                    \u001b[0mindex\u001b[0m\u001b[0;34m=\u001b[0m\u001b[0mindex\u001b[0m\u001b[0;34m,\u001b[0m \u001b[0mindex_label\u001b[0m\u001b[0;34m=\u001b[0m\u001b[0mindex_label\u001b[0m\u001b[0;34m,\u001b[0m \u001b[0mchunksize\u001b[0m\u001b[0;34m=\u001b[0m\u001b[0mchunksize\u001b[0m\u001b[0;34m,\u001b[0m\u001b[0;34m\u001b[0m\u001b[0m\n\u001b[0;32m-> 2127\u001b[0;31m                    dtype=dtype)\n\u001b[0m\u001b[1;32m   2128\u001b[0m \u001b[0;34m\u001b[0m\u001b[0m\n\u001b[1;32m   2129\u001b[0m     def to_pickle(self, path, compression='infer',\n",
      "\u001b[0;32m/anaconda3/lib/python3.6/site-packages/pandas/io/sql.py\u001b[0m in \u001b[0;36mto_sql\u001b[0;34m(frame, name, con, schema, if_exists, index, index_label, chunksize, dtype)\u001b[0m\n\u001b[1;32m    448\u001b[0m     pandas_sql.to_sql(frame, name, if_exists=if_exists, index=index,\n\u001b[1;32m    449\u001b[0m                       \u001b[0mindex_label\u001b[0m\u001b[0;34m=\u001b[0m\u001b[0mindex_label\u001b[0m\u001b[0;34m,\u001b[0m \u001b[0mschema\u001b[0m\u001b[0;34m=\u001b[0m\u001b[0mschema\u001b[0m\u001b[0;34m,\u001b[0m\u001b[0;34m\u001b[0m\u001b[0m\n\u001b[0;32m--> 450\u001b[0;31m                       chunksize=chunksize, dtype=dtype)\n\u001b[0m\u001b[1;32m    451\u001b[0m \u001b[0;34m\u001b[0m\u001b[0m\n\u001b[1;32m    452\u001b[0m \u001b[0;34m\u001b[0m\u001b[0m\n",
      "\u001b[0;32m/anaconda3/lib/python3.6/site-packages/pandas/io/sql.py\u001b[0m in \u001b[0;36mto_sql\u001b[0;34m(self, frame, name, if_exists, index, index_label, schema, chunksize, dtype)\u001b[0m\n\u001b[1;32m   1146\u001b[0m                          \u001b[0mif_exists\u001b[0m\u001b[0;34m=\u001b[0m\u001b[0mif_exists\u001b[0m\u001b[0;34m,\u001b[0m \u001b[0mindex_label\u001b[0m\u001b[0;34m=\u001b[0m\u001b[0mindex_label\u001b[0m\u001b[0;34m,\u001b[0m\u001b[0;34m\u001b[0m\u001b[0m\n\u001b[1;32m   1147\u001b[0m                          schema=schema, dtype=dtype)\n\u001b[0;32m-> 1148\u001b[0;31m         \u001b[0mtable\u001b[0m\u001b[0;34m.\u001b[0m\u001b[0mcreate\u001b[0m\u001b[0;34m(\u001b[0m\u001b[0;34m)\u001b[0m\u001b[0;34m\u001b[0m\u001b[0m\n\u001b[0m\u001b[1;32m   1149\u001b[0m         \u001b[0mtable\u001b[0m\u001b[0;34m.\u001b[0m\u001b[0minsert\u001b[0m\u001b[0;34m(\u001b[0m\u001b[0mchunksize\u001b[0m\u001b[0;34m)\u001b[0m\u001b[0;34m\u001b[0m\u001b[0m\n\u001b[1;32m   1150\u001b[0m         \u001b[0;32mif\u001b[0m \u001b[0;34m(\u001b[0m\u001b[0;32mnot\u001b[0m \u001b[0mname\u001b[0m\u001b[0;34m.\u001b[0m\u001b[0misdigit\u001b[0m\u001b[0;34m(\u001b[0m\u001b[0;34m)\u001b[0m \u001b[0;32mand\u001b[0m \u001b[0;32mnot\u001b[0m \u001b[0mname\u001b[0m\u001b[0;34m.\u001b[0m\u001b[0mislower\u001b[0m\u001b[0;34m(\u001b[0m\u001b[0;34m)\u001b[0m\u001b[0;34m)\u001b[0m\u001b[0;34m:\u001b[0m\u001b[0;34m\u001b[0m\u001b[0m\n",
      "\u001b[0;32m/anaconda3/lib/python3.6/site-packages/pandas/io/sql.py\u001b[0m in \u001b[0;36mcreate\u001b[0;34m(self)\u001b[0m\n\u001b[1;32m    559\u001b[0m \u001b[0;34m\u001b[0m\u001b[0m\n\u001b[1;32m    560\u001b[0m     \u001b[0;32mdef\u001b[0m \u001b[0mcreate\u001b[0m\u001b[0;34m(\u001b[0m\u001b[0mself\u001b[0m\u001b[0;34m)\u001b[0m\u001b[0;34m:\u001b[0m\u001b[0;34m\u001b[0m\u001b[0m\n\u001b[0;32m--> 561\u001b[0;31m         \u001b[0;32mif\u001b[0m \u001b[0mself\u001b[0m\u001b[0;34m.\u001b[0m\u001b[0mexists\u001b[0m\u001b[0;34m(\u001b[0m\u001b[0;34m)\u001b[0m\u001b[0;34m:\u001b[0m\u001b[0;34m\u001b[0m\u001b[0m\n\u001b[0m\u001b[1;32m    562\u001b[0m             \u001b[0;32mif\u001b[0m \u001b[0mself\u001b[0m\u001b[0;34m.\u001b[0m\u001b[0mif_exists\u001b[0m \u001b[0;34m==\u001b[0m \u001b[0;34m'fail'\u001b[0m\u001b[0;34m:\u001b[0m\u001b[0;34m\u001b[0m\u001b[0m\n\u001b[1;32m    563\u001b[0m                 \u001b[0;32mraise\u001b[0m \u001b[0mValueError\u001b[0m\u001b[0;34m(\u001b[0m\u001b[0;34m\"Table '%s' already exists.\"\u001b[0m \u001b[0;34m%\u001b[0m \u001b[0mself\u001b[0m\u001b[0;34m.\u001b[0m\u001b[0mname\u001b[0m\u001b[0;34m)\u001b[0m\u001b[0;34m\u001b[0m\u001b[0m\n",
      "\u001b[0;32m/anaconda3/lib/python3.6/site-packages/pandas/io/sql.py\u001b[0m in \u001b[0;36mexists\u001b[0;34m(self)\u001b[0m\n\u001b[1;32m    547\u001b[0m \u001b[0;34m\u001b[0m\u001b[0m\n\u001b[1;32m    548\u001b[0m     \u001b[0;32mdef\u001b[0m \u001b[0mexists\u001b[0m\u001b[0;34m(\u001b[0m\u001b[0mself\u001b[0m\u001b[0;34m)\u001b[0m\u001b[0;34m:\u001b[0m\u001b[0;34m\u001b[0m\u001b[0m\n\u001b[0;32m--> 549\u001b[0;31m         \u001b[0;32mreturn\u001b[0m \u001b[0mself\u001b[0m\u001b[0;34m.\u001b[0m\u001b[0mpd_sql\u001b[0m\u001b[0;34m.\u001b[0m\u001b[0mhas_table\u001b[0m\u001b[0;34m(\u001b[0m\u001b[0mself\u001b[0m\u001b[0;34m.\u001b[0m\u001b[0mname\u001b[0m\u001b[0;34m,\u001b[0m \u001b[0mself\u001b[0m\u001b[0;34m.\u001b[0m\u001b[0mschema\u001b[0m\u001b[0;34m)\u001b[0m\u001b[0;34m\u001b[0m\u001b[0m\n\u001b[0m\u001b[1;32m    550\u001b[0m \u001b[0;34m\u001b[0m\u001b[0m\n\u001b[1;32m    551\u001b[0m     \u001b[0;32mdef\u001b[0m \u001b[0msql_schema\u001b[0m\u001b[0;34m(\u001b[0m\u001b[0mself\u001b[0m\u001b[0;34m)\u001b[0m\u001b[0;34m:\u001b[0m\u001b[0;34m\u001b[0m\u001b[0m\n",
      "\u001b[0;32m/anaconda3/lib/python3.6/site-packages/pandas/io/sql.py\u001b[0m in \u001b[0;36mhas_table\u001b[0;34m(self, name, schema)\u001b[0m\n\u001b[1;32m   1174\u001b[0m             \u001b[0mself\u001b[0m\u001b[0;34m.\u001b[0m\u001b[0mconnectable\u001b[0m\u001b[0;34m.\u001b[0m\u001b[0mdialect\u001b[0m\u001b[0;34m.\u001b[0m\u001b[0mhas_table\u001b[0m\u001b[0;34m,\u001b[0m\u001b[0;34m\u001b[0m\u001b[0m\n\u001b[1;32m   1175\u001b[0m             \u001b[0mname\u001b[0m\u001b[0;34m,\u001b[0m\u001b[0;34m\u001b[0m\u001b[0m\n\u001b[0;32m-> 1176\u001b[0;31m             \u001b[0mschema\u001b[0m \u001b[0;32mor\u001b[0m \u001b[0mself\u001b[0m\u001b[0;34m.\u001b[0m\u001b[0mmeta\u001b[0m\u001b[0;34m.\u001b[0m\u001b[0mschema\u001b[0m\u001b[0;34m,\u001b[0m\u001b[0;34m\u001b[0m\u001b[0m\n\u001b[0m\u001b[1;32m   1177\u001b[0m         )\n\u001b[1;32m   1178\u001b[0m \u001b[0;34m\u001b[0m\u001b[0m\n",
      "\u001b[0;32m/anaconda3/lib/python3.6/site-packages/sqlalchemy/engine/base.py\u001b[0m in \u001b[0;36mrun_callable\u001b[0;34m(self, callable_, *args, **kwargs)\u001b[0m\n\u001b[1;32m   2053\u001b[0m \u001b[0;34m\u001b[0m\u001b[0m\n\u001b[1;32m   2054\u001b[0m         \"\"\"\n\u001b[0;32m-> 2055\u001b[0;31m         \u001b[0;32mwith\u001b[0m \u001b[0mself\u001b[0m\u001b[0;34m.\u001b[0m\u001b[0mcontextual_connect\u001b[0m\u001b[0;34m(\u001b[0m\u001b[0;34m)\u001b[0m \u001b[0;32mas\u001b[0m \u001b[0mconn\u001b[0m\u001b[0;34m:\u001b[0m\u001b[0;34m\u001b[0m\u001b[0m\n\u001b[0m\u001b[1;32m   2056\u001b[0m             \u001b[0;32mreturn\u001b[0m \u001b[0mconn\u001b[0m\u001b[0;34m.\u001b[0m\u001b[0mrun_callable\u001b[0m\u001b[0;34m(\u001b[0m\u001b[0mcallable_\u001b[0m\u001b[0;34m,\u001b[0m \u001b[0;34m*\u001b[0m\u001b[0margs\u001b[0m\u001b[0;34m,\u001b[0m \u001b[0;34m**\u001b[0m\u001b[0mkwargs\u001b[0m\u001b[0;34m)\u001b[0m\u001b[0;34m\u001b[0m\u001b[0m\n\u001b[1;32m   2057\u001b[0m \u001b[0;34m\u001b[0m\u001b[0m\n",
      "\u001b[0;32m/anaconda3/lib/python3.6/site-packages/sqlalchemy/engine/base.py\u001b[0m in \u001b[0;36mcontextual_connect\u001b[0;34m(self, close_with_result, **kwargs)\u001b[0m\n\u001b[1;32m   2121\u001b[0m         return self._connection_cls(\n\u001b[1;32m   2122\u001b[0m             \u001b[0mself\u001b[0m\u001b[0;34m,\u001b[0m\u001b[0;34m\u001b[0m\u001b[0m\n\u001b[0;32m-> 2123\u001b[0;31m             \u001b[0mself\u001b[0m\u001b[0;34m.\u001b[0m\u001b[0m_wrap_pool_connect\u001b[0m\u001b[0;34m(\u001b[0m\u001b[0mself\u001b[0m\u001b[0;34m.\u001b[0m\u001b[0mpool\u001b[0m\u001b[0;34m.\u001b[0m\u001b[0mconnect\u001b[0m\u001b[0;34m,\u001b[0m \u001b[0;32mNone\u001b[0m\u001b[0;34m)\u001b[0m\u001b[0;34m,\u001b[0m\u001b[0;34m\u001b[0m\u001b[0m\n\u001b[0m\u001b[1;32m   2124\u001b[0m             \u001b[0mclose_with_result\u001b[0m\u001b[0;34m=\u001b[0m\u001b[0mclose_with_result\u001b[0m\u001b[0;34m,\u001b[0m\u001b[0;34m\u001b[0m\u001b[0m\n\u001b[1;32m   2125\u001b[0m             **kwargs)\n",
      "\u001b[0;32m/anaconda3/lib/python3.6/site-packages/sqlalchemy/engine/base.py\u001b[0m in \u001b[0;36m_wrap_pool_connect\u001b[0;34m(self, fn, connection)\u001b[0m\n\u001b[1;32m   2160\u001b[0m             \u001b[0;32mif\u001b[0m \u001b[0mconnection\u001b[0m \u001b[0;32mis\u001b[0m \u001b[0;32mNone\u001b[0m\u001b[0;34m:\u001b[0m\u001b[0;34m\u001b[0m\u001b[0m\n\u001b[1;32m   2161\u001b[0m                 Connection._handle_dbapi_exception_noconnection(\n\u001b[0;32m-> 2162\u001b[0;31m                     e, dialect, self)\n\u001b[0m\u001b[1;32m   2163\u001b[0m             \u001b[0;32melse\u001b[0m\u001b[0;34m:\u001b[0m\u001b[0;34m\u001b[0m\u001b[0m\n\u001b[1;32m   2164\u001b[0m                 \u001b[0mutil\u001b[0m\u001b[0;34m.\u001b[0m\u001b[0mreraise\u001b[0m\u001b[0;34m(\u001b[0m\u001b[0;34m*\u001b[0m\u001b[0msys\u001b[0m\u001b[0;34m.\u001b[0m\u001b[0mexc_info\u001b[0m\u001b[0;34m(\u001b[0m\u001b[0;34m)\u001b[0m\u001b[0;34m)\u001b[0m\u001b[0;34m\u001b[0m\u001b[0m\n",
      "\u001b[0;32m/anaconda3/lib/python3.6/site-packages/sqlalchemy/engine/base.py\u001b[0m in \u001b[0;36m_handle_dbapi_exception_noconnection\u001b[0;34m(cls, e, dialect, engine)\u001b[0m\n\u001b[1;32m   1474\u001b[0m             util.raise_from_cause(\n\u001b[1;32m   1475\u001b[0m                 \u001b[0msqlalchemy_exception\u001b[0m\u001b[0;34m,\u001b[0m\u001b[0;34m\u001b[0m\u001b[0m\n\u001b[0;32m-> 1476\u001b[0;31m                 \u001b[0mexc_info\u001b[0m\u001b[0;34m\u001b[0m\u001b[0m\n\u001b[0m\u001b[1;32m   1477\u001b[0m             )\n\u001b[1;32m   1478\u001b[0m         \u001b[0;32melse\u001b[0m\u001b[0;34m:\u001b[0m\u001b[0;34m\u001b[0m\u001b[0m\n",
      "\u001b[0;32m/anaconda3/lib/python3.6/site-packages/sqlalchemy/util/compat.py\u001b[0m in \u001b[0;36mraise_from_cause\u001b[0;34m(exception, exc_info)\u001b[0m\n\u001b[1;32m    201\u001b[0m     \u001b[0mexc_type\u001b[0m\u001b[0;34m,\u001b[0m \u001b[0mexc_value\u001b[0m\u001b[0;34m,\u001b[0m \u001b[0mexc_tb\u001b[0m \u001b[0;34m=\u001b[0m \u001b[0mexc_info\u001b[0m\u001b[0;34m\u001b[0m\u001b[0m\n\u001b[1;32m    202\u001b[0m     \u001b[0mcause\u001b[0m \u001b[0;34m=\u001b[0m \u001b[0mexc_value\u001b[0m \u001b[0;32mif\u001b[0m \u001b[0mexc_value\u001b[0m \u001b[0;32mis\u001b[0m \u001b[0;32mnot\u001b[0m \u001b[0mexception\u001b[0m \u001b[0;32melse\u001b[0m \u001b[0;32mNone\u001b[0m\u001b[0;34m\u001b[0m\u001b[0m\n\u001b[0;32m--> 203\u001b[0;31m     \u001b[0mreraise\u001b[0m\u001b[0;34m(\u001b[0m\u001b[0mtype\u001b[0m\u001b[0;34m(\u001b[0m\u001b[0mexception\u001b[0m\u001b[0;34m)\u001b[0m\u001b[0;34m,\u001b[0m \u001b[0mexception\u001b[0m\u001b[0;34m,\u001b[0m \u001b[0mtb\u001b[0m\u001b[0;34m=\u001b[0m\u001b[0mexc_tb\u001b[0m\u001b[0;34m,\u001b[0m \u001b[0mcause\u001b[0m\u001b[0;34m=\u001b[0m\u001b[0mcause\u001b[0m\u001b[0;34m)\u001b[0m\u001b[0;34m\u001b[0m\u001b[0m\n\u001b[0m\u001b[1;32m    204\u001b[0m \u001b[0;34m\u001b[0m\u001b[0m\n\u001b[1;32m    205\u001b[0m \u001b[0;32mif\u001b[0m \u001b[0mpy3k\u001b[0m\u001b[0;34m:\u001b[0m\u001b[0;34m\u001b[0m\u001b[0m\n",
      "\u001b[0;32m/anaconda3/lib/python3.6/site-packages/sqlalchemy/util/compat.py\u001b[0m in \u001b[0;36mreraise\u001b[0;34m(tp, value, tb, cause)\u001b[0m\n\u001b[1;32m    184\u001b[0m             \u001b[0mvalue\u001b[0m\u001b[0;34m.\u001b[0m\u001b[0m__cause__\u001b[0m \u001b[0;34m=\u001b[0m \u001b[0mcause\u001b[0m\u001b[0;34m\u001b[0m\u001b[0m\n\u001b[1;32m    185\u001b[0m         \u001b[0;32mif\u001b[0m \u001b[0mvalue\u001b[0m\u001b[0;34m.\u001b[0m\u001b[0m__traceback__\u001b[0m \u001b[0;32mis\u001b[0m \u001b[0;32mnot\u001b[0m \u001b[0mtb\u001b[0m\u001b[0;34m:\u001b[0m\u001b[0;34m\u001b[0m\u001b[0m\n\u001b[0;32m--> 186\u001b[0;31m             \u001b[0;32mraise\u001b[0m \u001b[0mvalue\u001b[0m\u001b[0;34m.\u001b[0m\u001b[0mwith_traceback\u001b[0m\u001b[0;34m(\u001b[0m\u001b[0mtb\u001b[0m\u001b[0;34m)\u001b[0m\u001b[0;34m\u001b[0m\u001b[0m\n\u001b[0m\u001b[1;32m    187\u001b[0m         \u001b[0;32mraise\u001b[0m \u001b[0mvalue\u001b[0m\u001b[0;34m\u001b[0m\u001b[0m\n\u001b[1;32m    188\u001b[0m \u001b[0;34m\u001b[0m\u001b[0m\n",
      "\u001b[0;32m/anaconda3/lib/python3.6/site-packages/sqlalchemy/engine/base.py\u001b[0m in \u001b[0;36m_wrap_pool_connect\u001b[0;34m(self, fn, connection)\u001b[0m\n\u001b[1;32m   2156\u001b[0m         \u001b[0mdialect\u001b[0m \u001b[0;34m=\u001b[0m \u001b[0mself\u001b[0m\u001b[0;34m.\u001b[0m\u001b[0mdialect\u001b[0m\u001b[0;34m\u001b[0m\u001b[0m\n\u001b[1;32m   2157\u001b[0m         \u001b[0;32mtry\u001b[0m\u001b[0;34m:\u001b[0m\u001b[0;34m\u001b[0m\u001b[0m\n\u001b[0;32m-> 2158\u001b[0;31m             \u001b[0;32mreturn\u001b[0m \u001b[0mfn\u001b[0m\u001b[0;34m(\u001b[0m\u001b[0;34m)\u001b[0m\u001b[0;34m\u001b[0m\u001b[0m\n\u001b[0m\u001b[1;32m   2159\u001b[0m         \u001b[0;32mexcept\u001b[0m \u001b[0mdialect\u001b[0m\u001b[0;34m.\u001b[0m\u001b[0mdbapi\u001b[0m\u001b[0;34m.\u001b[0m\u001b[0mError\u001b[0m \u001b[0;32mas\u001b[0m \u001b[0me\u001b[0m\u001b[0;34m:\u001b[0m\u001b[0;34m\u001b[0m\u001b[0m\n\u001b[1;32m   2160\u001b[0m             \u001b[0;32mif\u001b[0m \u001b[0mconnection\u001b[0m \u001b[0;32mis\u001b[0m \u001b[0;32mNone\u001b[0m\u001b[0;34m:\u001b[0m\u001b[0;34m\u001b[0m\u001b[0m\n",
      "\u001b[0;32m/anaconda3/lib/python3.6/site-packages/sqlalchemy/pool.py\u001b[0m in \u001b[0;36mconnect\u001b[0;34m(self)\u001b[0m\n\u001b[1;32m    401\u001b[0m         \"\"\"\n\u001b[1;32m    402\u001b[0m         \u001b[0;32mif\u001b[0m \u001b[0;32mnot\u001b[0m \u001b[0mself\u001b[0m\u001b[0;34m.\u001b[0m\u001b[0m_use_threadlocal\u001b[0m\u001b[0;34m:\u001b[0m\u001b[0;34m\u001b[0m\u001b[0m\n\u001b[0;32m--> 403\u001b[0;31m             \u001b[0;32mreturn\u001b[0m \u001b[0m_ConnectionFairy\u001b[0m\u001b[0;34m.\u001b[0m\u001b[0m_checkout\u001b[0m\u001b[0;34m(\u001b[0m\u001b[0mself\u001b[0m\u001b[0;34m)\u001b[0m\u001b[0;34m\u001b[0m\u001b[0m\n\u001b[0m\u001b[1;32m    404\u001b[0m \u001b[0;34m\u001b[0m\u001b[0m\n\u001b[1;32m    405\u001b[0m         \u001b[0;32mtry\u001b[0m\u001b[0;34m:\u001b[0m\u001b[0;34m\u001b[0m\u001b[0m\n",
      "\u001b[0;32m/anaconda3/lib/python3.6/site-packages/sqlalchemy/pool.py\u001b[0m in \u001b[0;36m_checkout\u001b[0;34m(cls, pool, threadconns, fairy)\u001b[0m\n\u001b[1;32m    786\u001b[0m     \u001b[0;32mdef\u001b[0m \u001b[0m_checkout\u001b[0m\u001b[0;34m(\u001b[0m\u001b[0mcls\u001b[0m\u001b[0;34m,\u001b[0m \u001b[0mpool\u001b[0m\u001b[0;34m,\u001b[0m \u001b[0mthreadconns\u001b[0m\u001b[0;34m=\u001b[0m\u001b[0;32mNone\u001b[0m\u001b[0;34m,\u001b[0m \u001b[0mfairy\u001b[0m\u001b[0;34m=\u001b[0m\u001b[0;32mNone\u001b[0m\u001b[0;34m)\u001b[0m\u001b[0;34m:\u001b[0m\u001b[0;34m\u001b[0m\u001b[0m\n\u001b[1;32m    787\u001b[0m         \u001b[0;32mif\u001b[0m \u001b[0;32mnot\u001b[0m \u001b[0mfairy\u001b[0m\u001b[0;34m:\u001b[0m\u001b[0;34m\u001b[0m\u001b[0m\n\u001b[0;32m--> 788\u001b[0;31m             \u001b[0mfairy\u001b[0m \u001b[0;34m=\u001b[0m \u001b[0m_ConnectionRecord\u001b[0m\u001b[0;34m.\u001b[0m\u001b[0mcheckout\u001b[0m\u001b[0;34m(\u001b[0m\u001b[0mpool\u001b[0m\u001b[0;34m)\u001b[0m\u001b[0;34m\u001b[0m\u001b[0m\n\u001b[0m\u001b[1;32m    789\u001b[0m \u001b[0;34m\u001b[0m\u001b[0m\n\u001b[1;32m    790\u001b[0m             \u001b[0mfairy\u001b[0m\u001b[0;34m.\u001b[0m\u001b[0m_pool\u001b[0m \u001b[0;34m=\u001b[0m \u001b[0mpool\u001b[0m\u001b[0;34m\u001b[0m\u001b[0m\n",
      "\u001b[0;32m/anaconda3/lib/python3.6/site-packages/sqlalchemy/pool.py\u001b[0m in \u001b[0;36mcheckout\u001b[0;34m(cls, pool)\u001b[0m\n\u001b[1;32m    530\u001b[0m     \u001b[0;34m@\u001b[0m\u001b[0mclassmethod\u001b[0m\u001b[0;34m\u001b[0m\u001b[0m\n\u001b[1;32m    531\u001b[0m     \u001b[0;32mdef\u001b[0m \u001b[0mcheckout\u001b[0m\u001b[0;34m(\u001b[0m\u001b[0mcls\u001b[0m\u001b[0;34m,\u001b[0m \u001b[0mpool\u001b[0m\u001b[0;34m)\u001b[0m\u001b[0;34m:\u001b[0m\u001b[0;34m\u001b[0m\u001b[0m\n\u001b[0;32m--> 532\u001b[0;31m         \u001b[0mrec\u001b[0m \u001b[0;34m=\u001b[0m \u001b[0mpool\u001b[0m\u001b[0;34m.\u001b[0m\u001b[0m_do_get\u001b[0m\u001b[0;34m(\u001b[0m\u001b[0;34m)\u001b[0m\u001b[0;34m\u001b[0m\u001b[0m\n\u001b[0m\u001b[1;32m    533\u001b[0m         \u001b[0;32mtry\u001b[0m\u001b[0;34m:\u001b[0m\u001b[0;34m\u001b[0m\u001b[0m\n\u001b[1;32m    534\u001b[0m             \u001b[0mdbapi_connection\u001b[0m \u001b[0;34m=\u001b[0m \u001b[0mrec\u001b[0m\u001b[0;34m.\u001b[0m\u001b[0mget_connection\u001b[0m\u001b[0;34m(\u001b[0m\u001b[0;34m)\u001b[0m\u001b[0;34m\u001b[0m\u001b[0m\n",
      "\u001b[0;32m/anaconda3/lib/python3.6/site-packages/sqlalchemy/pool.py\u001b[0m in \u001b[0;36m_do_get\u001b[0;34m(self)\u001b[0m\n\u001b[1;32m   1191\u001b[0m             \u001b[0;32mexcept\u001b[0m\u001b[0;34m:\u001b[0m\u001b[0;34m\u001b[0m\u001b[0m\n\u001b[1;32m   1192\u001b[0m                 \u001b[0;32mwith\u001b[0m \u001b[0mutil\u001b[0m\u001b[0;34m.\u001b[0m\u001b[0msafe_reraise\u001b[0m\u001b[0;34m(\u001b[0m\u001b[0;34m)\u001b[0m\u001b[0;34m:\u001b[0m\u001b[0;34m\u001b[0m\u001b[0m\n\u001b[0;32m-> 1193\u001b[0;31m                     \u001b[0mself\u001b[0m\u001b[0;34m.\u001b[0m\u001b[0m_dec_overflow\u001b[0m\u001b[0;34m(\u001b[0m\u001b[0;34m)\u001b[0m\u001b[0;34m\u001b[0m\u001b[0m\n\u001b[0m\u001b[1;32m   1194\u001b[0m         \u001b[0;32melse\u001b[0m\u001b[0;34m:\u001b[0m\u001b[0;34m\u001b[0m\u001b[0m\n\u001b[1;32m   1195\u001b[0m             \u001b[0;32mreturn\u001b[0m \u001b[0mself\u001b[0m\u001b[0;34m.\u001b[0m\u001b[0m_do_get\u001b[0m\u001b[0;34m(\u001b[0m\u001b[0;34m)\u001b[0m\u001b[0;34m\u001b[0m\u001b[0m\n",
      "\u001b[0;32m/anaconda3/lib/python3.6/site-packages/sqlalchemy/util/langhelpers.py\u001b[0m in \u001b[0;36m__exit__\u001b[0;34m(self, type_, value, traceback)\u001b[0m\n\u001b[1;32m     64\u001b[0m             \u001b[0mself\u001b[0m\u001b[0;34m.\u001b[0m\u001b[0m_exc_info\u001b[0m \u001b[0;34m=\u001b[0m \u001b[0;32mNone\u001b[0m   \u001b[0;31m# remove potential circular references\u001b[0m\u001b[0;34m\u001b[0m\u001b[0m\n\u001b[1;32m     65\u001b[0m             \u001b[0;32mif\u001b[0m \u001b[0;32mnot\u001b[0m \u001b[0mself\u001b[0m\u001b[0;34m.\u001b[0m\u001b[0mwarn_only\u001b[0m\u001b[0;34m:\u001b[0m\u001b[0;34m\u001b[0m\u001b[0m\n\u001b[0;32m---> 66\u001b[0;31m                 \u001b[0mcompat\u001b[0m\u001b[0;34m.\u001b[0m\u001b[0mreraise\u001b[0m\u001b[0;34m(\u001b[0m\u001b[0mexc_type\u001b[0m\u001b[0;34m,\u001b[0m \u001b[0mexc_value\u001b[0m\u001b[0;34m,\u001b[0m \u001b[0mexc_tb\u001b[0m\u001b[0;34m)\u001b[0m\u001b[0;34m\u001b[0m\u001b[0m\n\u001b[0m\u001b[1;32m     67\u001b[0m         \u001b[0;32melse\u001b[0m\u001b[0;34m:\u001b[0m\u001b[0;34m\u001b[0m\u001b[0m\n\u001b[1;32m     68\u001b[0m             \u001b[0;32mif\u001b[0m \u001b[0;32mnot\u001b[0m \u001b[0mcompat\u001b[0m\u001b[0;34m.\u001b[0m\u001b[0mpy3k\u001b[0m \u001b[0;32mand\u001b[0m \u001b[0mself\u001b[0m\u001b[0;34m.\u001b[0m\u001b[0m_exc_info\u001b[0m \u001b[0;32mand\u001b[0m \u001b[0mself\u001b[0m\u001b[0;34m.\u001b[0m\u001b[0m_exc_info\u001b[0m\u001b[0;34m[\u001b[0m\u001b[0;36m1\u001b[0m\u001b[0;34m]\u001b[0m\u001b[0;34m:\u001b[0m\u001b[0;34m\u001b[0m\u001b[0m\n",
      "\u001b[0;32m/anaconda3/lib/python3.6/site-packages/sqlalchemy/util/compat.py\u001b[0m in \u001b[0;36mreraise\u001b[0;34m(tp, value, tb, cause)\u001b[0m\n\u001b[1;32m    185\u001b[0m         \u001b[0;32mif\u001b[0m \u001b[0mvalue\u001b[0m\u001b[0;34m.\u001b[0m\u001b[0m__traceback__\u001b[0m \u001b[0;32mis\u001b[0m \u001b[0;32mnot\u001b[0m \u001b[0mtb\u001b[0m\u001b[0;34m:\u001b[0m\u001b[0;34m\u001b[0m\u001b[0m\n\u001b[1;32m    186\u001b[0m             \u001b[0;32mraise\u001b[0m \u001b[0mvalue\u001b[0m\u001b[0;34m.\u001b[0m\u001b[0mwith_traceback\u001b[0m\u001b[0;34m(\u001b[0m\u001b[0mtb\u001b[0m\u001b[0;34m)\u001b[0m\u001b[0;34m\u001b[0m\u001b[0m\n\u001b[0;32m--> 187\u001b[0;31m         \u001b[0;32mraise\u001b[0m \u001b[0mvalue\u001b[0m\u001b[0;34m\u001b[0m\u001b[0m\n\u001b[0m\u001b[1;32m    188\u001b[0m \u001b[0;34m\u001b[0m\u001b[0m\n\u001b[1;32m    189\u001b[0m \u001b[0;32melse\u001b[0m\u001b[0;34m:\u001b[0m\u001b[0;34m\u001b[0m\u001b[0m\n",
      "\u001b[0;32m/anaconda3/lib/python3.6/site-packages/sqlalchemy/pool.py\u001b[0m in \u001b[0;36m_do_get\u001b[0;34m(self)\u001b[0m\n\u001b[1;32m   1188\u001b[0m         \u001b[0;32mif\u001b[0m \u001b[0mself\u001b[0m\u001b[0;34m.\u001b[0m\u001b[0m_inc_overflow\u001b[0m\u001b[0;34m(\u001b[0m\u001b[0;34m)\u001b[0m\u001b[0;34m:\u001b[0m\u001b[0;34m\u001b[0m\u001b[0m\n\u001b[1;32m   1189\u001b[0m             \u001b[0;32mtry\u001b[0m\u001b[0;34m:\u001b[0m\u001b[0;34m\u001b[0m\u001b[0m\n\u001b[0;32m-> 1190\u001b[0;31m                 \u001b[0;32mreturn\u001b[0m \u001b[0mself\u001b[0m\u001b[0;34m.\u001b[0m\u001b[0m_create_connection\u001b[0m\u001b[0;34m(\u001b[0m\u001b[0;34m)\u001b[0m\u001b[0;34m\u001b[0m\u001b[0m\n\u001b[0m\u001b[1;32m   1191\u001b[0m             \u001b[0;32mexcept\u001b[0m\u001b[0;34m:\u001b[0m\u001b[0;34m\u001b[0m\u001b[0m\n\u001b[1;32m   1192\u001b[0m                 \u001b[0;32mwith\u001b[0m \u001b[0mutil\u001b[0m\u001b[0;34m.\u001b[0m\u001b[0msafe_reraise\u001b[0m\u001b[0;34m(\u001b[0m\u001b[0;34m)\u001b[0m\u001b[0;34m:\u001b[0m\u001b[0;34m\u001b[0m\u001b[0m\n",
      "\u001b[0;32m/anaconda3/lib/python3.6/site-packages/sqlalchemy/pool.py\u001b[0m in \u001b[0;36m_create_connection\u001b[0;34m(self)\u001b[0m\n\u001b[1;32m    348\u001b[0m         \u001b[0;34m\"\"\"Called by subclasses to create a new ConnectionRecord.\"\"\"\u001b[0m\u001b[0;34m\u001b[0m\u001b[0m\n\u001b[1;32m    349\u001b[0m \u001b[0;34m\u001b[0m\u001b[0m\n\u001b[0;32m--> 350\u001b[0;31m         \u001b[0;32mreturn\u001b[0m \u001b[0m_ConnectionRecord\u001b[0m\u001b[0;34m(\u001b[0m\u001b[0mself\u001b[0m\u001b[0;34m)\u001b[0m\u001b[0;34m\u001b[0m\u001b[0m\n\u001b[0m\u001b[1;32m    351\u001b[0m \u001b[0;34m\u001b[0m\u001b[0m\n\u001b[1;32m    352\u001b[0m     \u001b[0;32mdef\u001b[0m \u001b[0m_invalidate\u001b[0m\u001b[0;34m(\u001b[0m\u001b[0mself\u001b[0m\u001b[0;34m,\u001b[0m \u001b[0mconnection\u001b[0m\u001b[0;34m,\u001b[0m \u001b[0mexception\u001b[0m\u001b[0;34m=\u001b[0m\u001b[0;32mNone\u001b[0m\u001b[0;34m,\u001b[0m \u001b[0m_checkin\u001b[0m\u001b[0;34m=\u001b[0m\u001b[0;32mTrue\u001b[0m\u001b[0;34m)\u001b[0m\u001b[0;34m:\u001b[0m\u001b[0;34m\u001b[0m\u001b[0m\n",
      "\u001b[0;32m/anaconda3/lib/python3.6/site-packages/sqlalchemy/pool.py\u001b[0m in \u001b[0;36m__init__\u001b[0;34m(self, pool, connect)\u001b[0m\n\u001b[1;32m    475\u001b[0m         \u001b[0mself\u001b[0m\u001b[0;34m.\u001b[0m\u001b[0m__pool\u001b[0m \u001b[0;34m=\u001b[0m \u001b[0mpool\u001b[0m\u001b[0;34m\u001b[0m\u001b[0m\n\u001b[1;32m    476\u001b[0m         \u001b[0;32mif\u001b[0m \u001b[0mconnect\u001b[0m\u001b[0;34m:\u001b[0m\u001b[0;34m\u001b[0m\u001b[0m\n\u001b[0;32m--> 477\u001b[0;31m             \u001b[0mself\u001b[0m\u001b[0;34m.\u001b[0m\u001b[0m__connect\u001b[0m\u001b[0;34m(\u001b[0m\u001b[0mfirst_connect_check\u001b[0m\u001b[0;34m=\u001b[0m\u001b[0;32mTrue\u001b[0m\u001b[0;34m)\u001b[0m\u001b[0;34m\u001b[0m\u001b[0m\n\u001b[0m\u001b[1;32m    478\u001b[0m         \u001b[0mself\u001b[0m\u001b[0;34m.\u001b[0m\u001b[0mfinalize_callback\u001b[0m \u001b[0;34m=\u001b[0m \u001b[0mdeque\u001b[0m\u001b[0;34m(\u001b[0m\u001b[0;34m)\u001b[0m\u001b[0;34m\u001b[0m\u001b[0m\n\u001b[1;32m    479\u001b[0m \u001b[0;34m\u001b[0m\u001b[0m\n",
      "\u001b[0;32m/anaconda3/lib/python3.6/site-packages/sqlalchemy/pool.py\u001b[0m in \u001b[0;36m__connect\u001b[0;34m(self, first_connect_check)\u001b[0m\n\u001b[1;32m    669\u001b[0m         \u001b[0;32mtry\u001b[0m\u001b[0;34m:\u001b[0m\u001b[0;34m\u001b[0m\u001b[0m\n\u001b[1;32m    670\u001b[0m             \u001b[0mself\u001b[0m\u001b[0;34m.\u001b[0m\u001b[0mstarttime\u001b[0m \u001b[0;34m=\u001b[0m \u001b[0mtime\u001b[0m\u001b[0;34m.\u001b[0m\u001b[0mtime\u001b[0m\u001b[0;34m(\u001b[0m\u001b[0;34m)\u001b[0m\u001b[0;34m\u001b[0m\u001b[0m\n\u001b[0;32m--> 671\u001b[0;31m             \u001b[0mconnection\u001b[0m \u001b[0;34m=\u001b[0m \u001b[0mpool\u001b[0m\u001b[0;34m.\u001b[0m\u001b[0m_invoke_creator\u001b[0m\u001b[0;34m(\u001b[0m\u001b[0mself\u001b[0m\u001b[0;34m)\u001b[0m\u001b[0;34m\u001b[0m\u001b[0m\n\u001b[0m\u001b[1;32m    672\u001b[0m             \u001b[0mpool\u001b[0m\u001b[0;34m.\u001b[0m\u001b[0mlogger\u001b[0m\u001b[0;34m.\u001b[0m\u001b[0mdebug\u001b[0m\u001b[0;34m(\u001b[0m\u001b[0;34m\"Created new connection %r\"\u001b[0m\u001b[0;34m,\u001b[0m \u001b[0mconnection\u001b[0m\u001b[0;34m)\u001b[0m\u001b[0;34m\u001b[0m\u001b[0m\n\u001b[1;32m    673\u001b[0m             \u001b[0mself\u001b[0m\u001b[0;34m.\u001b[0m\u001b[0mconnection\u001b[0m \u001b[0;34m=\u001b[0m \u001b[0mconnection\u001b[0m\u001b[0;34m\u001b[0m\u001b[0m\n",
      "\u001b[0;32m/anaconda3/lib/python3.6/site-packages/sqlalchemy/engine/strategies.py\u001b[0m in \u001b[0;36mconnect\u001b[0;34m(connection_record)\u001b[0m\n\u001b[1;32m    104\u001b[0m                         \u001b[0;32mif\u001b[0m \u001b[0mconnection\u001b[0m \u001b[0;32mis\u001b[0m \u001b[0;32mnot\u001b[0m \u001b[0;32mNone\u001b[0m\u001b[0;34m:\u001b[0m\u001b[0;34m\u001b[0m\u001b[0m\n\u001b[1;32m    105\u001b[0m                             \u001b[0;32mreturn\u001b[0m \u001b[0mconnection\u001b[0m\u001b[0;34m\u001b[0m\u001b[0m\n\u001b[0;32m--> 106\u001b[0;31m                 \u001b[0;32mreturn\u001b[0m \u001b[0mdialect\u001b[0m\u001b[0;34m.\u001b[0m\u001b[0mconnect\u001b[0m\u001b[0;34m(\u001b[0m\u001b[0;34m*\u001b[0m\u001b[0mcargs\u001b[0m\u001b[0;34m,\u001b[0m \u001b[0;34m**\u001b[0m\u001b[0mcparams\u001b[0m\u001b[0;34m)\u001b[0m\u001b[0;34m\u001b[0m\u001b[0m\n\u001b[0m\u001b[1;32m    107\u001b[0m \u001b[0;34m\u001b[0m\u001b[0m\n\u001b[1;32m    108\u001b[0m             \u001b[0mcreator\u001b[0m \u001b[0;34m=\u001b[0m \u001b[0mpop_kwarg\u001b[0m\u001b[0;34m(\u001b[0m\u001b[0;34m'creator'\u001b[0m\u001b[0;34m,\u001b[0m \u001b[0mconnect\u001b[0m\u001b[0;34m)\u001b[0m\u001b[0;34m\u001b[0m\u001b[0m\n",
      "\u001b[0;32m/anaconda3/lib/python3.6/site-packages/sqlalchemy/engine/default.py\u001b[0m in \u001b[0;36mconnect\u001b[0;34m(self, *cargs, **cparams)\u001b[0m\n\u001b[1;32m    408\u001b[0m \u001b[0;34m\u001b[0m\u001b[0m\n\u001b[1;32m    409\u001b[0m     \u001b[0;32mdef\u001b[0m \u001b[0mconnect\u001b[0m\u001b[0;34m(\u001b[0m\u001b[0mself\u001b[0m\u001b[0;34m,\u001b[0m \u001b[0;34m*\u001b[0m\u001b[0mcargs\u001b[0m\u001b[0;34m,\u001b[0m \u001b[0;34m**\u001b[0m\u001b[0mcparams\u001b[0m\u001b[0;34m)\u001b[0m\u001b[0;34m:\u001b[0m\u001b[0;34m\u001b[0m\u001b[0m\n\u001b[0;32m--> 410\u001b[0;31m         \u001b[0;32mreturn\u001b[0m \u001b[0mself\u001b[0m\u001b[0;34m.\u001b[0m\u001b[0mdbapi\u001b[0m\u001b[0;34m.\u001b[0m\u001b[0mconnect\u001b[0m\u001b[0;34m(\u001b[0m\u001b[0;34m*\u001b[0m\u001b[0mcargs\u001b[0m\u001b[0;34m,\u001b[0m \u001b[0;34m**\u001b[0m\u001b[0mcparams\u001b[0m\u001b[0;34m)\u001b[0m\u001b[0;34m\u001b[0m\u001b[0m\n\u001b[0m\u001b[1;32m    411\u001b[0m \u001b[0;34m\u001b[0m\u001b[0m\n\u001b[1;32m    412\u001b[0m     \u001b[0;32mdef\u001b[0m \u001b[0mcreate_connect_args\u001b[0m\u001b[0;34m(\u001b[0m\u001b[0mself\u001b[0m\u001b[0;34m,\u001b[0m \u001b[0murl\u001b[0m\u001b[0;34m)\u001b[0m\u001b[0;34m:\u001b[0m\u001b[0;34m\u001b[0m\u001b[0m\n",
      "\u001b[0;32m~/.local/lib/python3.6/site-packages/pymysql/__init__.py\u001b[0m in \u001b[0;36mConnect\u001b[0;34m(*args, **kwargs)\u001b[0m\n\u001b[1;32m     92\u001b[0m     \"\"\"\n\u001b[1;32m     93\u001b[0m     \u001b[0;32mfrom\u001b[0m \u001b[0;34m.\u001b[0m\u001b[0mconnections\u001b[0m \u001b[0;32mimport\u001b[0m \u001b[0mConnection\u001b[0m\u001b[0;34m\u001b[0m\u001b[0m\n\u001b[0;32m---> 94\u001b[0;31m     \u001b[0;32mreturn\u001b[0m \u001b[0mConnection\u001b[0m\u001b[0;34m(\u001b[0m\u001b[0;34m*\u001b[0m\u001b[0margs\u001b[0m\u001b[0;34m,\u001b[0m \u001b[0;34m**\u001b[0m\u001b[0mkwargs\u001b[0m\u001b[0;34m)\u001b[0m\u001b[0;34m\u001b[0m\u001b[0m\n\u001b[0m\u001b[1;32m     95\u001b[0m \u001b[0;34m\u001b[0m\u001b[0m\n\u001b[1;32m     96\u001b[0m \u001b[0;32mfrom\u001b[0m \u001b[0;34m.\u001b[0m \u001b[0;32mimport\u001b[0m \u001b[0mconnections\u001b[0m \u001b[0;32mas\u001b[0m \u001b[0m_orig_conn\u001b[0m\u001b[0;34m\u001b[0m\u001b[0m\n",
      "\u001b[0;32m~/.local/lib/python3.6/site-packages/pymysql/connections.py\u001b[0m in \u001b[0;36m__init__\u001b[0;34m(self, host, user, password, database, port, unix_socket, charset, sql_mode, read_default_file, conv, use_unicode, client_flag, cursorclass, init_command, connect_timeout, ssl, read_default_group, compress, named_pipe, autocommit, db, passwd, local_infile, max_allowed_packet, defer_connect, auth_plugin_map, read_timeout, write_timeout, bind_address, binary_prefix, program_name, server_public_key)\u001b[0m\n\u001b[1;32m    323\u001b[0m             \u001b[0mself\u001b[0m\u001b[0;34m.\u001b[0m\u001b[0m_sock\u001b[0m \u001b[0;34m=\u001b[0m \u001b[0;32mNone\u001b[0m\u001b[0;34m\u001b[0m\u001b[0m\n\u001b[1;32m    324\u001b[0m         \u001b[0;32melse\u001b[0m\u001b[0;34m:\u001b[0m\u001b[0;34m\u001b[0m\u001b[0m\n\u001b[0;32m--> 325\u001b[0;31m             \u001b[0mself\u001b[0m\u001b[0;34m.\u001b[0m\u001b[0mconnect\u001b[0m\u001b[0;34m(\u001b[0m\u001b[0;34m)\u001b[0m\u001b[0;34m\u001b[0m\u001b[0m\n\u001b[0m\u001b[1;32m    326\u001b[0m \u001b[0;34m\u001b[0m\u001b[0m\n\u001b[1;32m    327\u001b[0m     \u001b[0;32mdef\u001b[0m \u001b[0m_create_ssl_ctx\u001b[0m\u001b[0;34m(\u001b[0m\u001b[0mself\u001b[0m\u001b[0;34m,\u001b[0m \u001b[0msslp\u001b[0m\u001b[0;34m)\u001b[0m\u001b[0;34m:\u001b[0m\u001b[0;34m\u001b[0m\u001b[0m\n",
      "\u001b[0;32m~/.local/lib/python3.6/site-packages/pymysql/connections.py\u001b[0m in \u001b[0;36mconnect\u001b[0;34m(self, sock)\u001b[0m\n\u001b[1;32m    628\u001b[0m                 \u001b[0mexc\u001b[0m\u001b[0;34m.\u001b[0m\u001b[0mtraceback\u001b[0m \u001b[0;34m=\u001b[0m \u001b[0mtraceback\u001b[0m\u001b[0;34m.\u001b[0m\u001b[0mformat_exc\u001b[0m\u001b[0;34m(\u001b[0m\u001b[0;34m)\u001b[0m\u001b[0;34m\u001b[0m\u001b[0m\n\u001b[1;32m    629\u001b[0m                 \u001b[0;32mif\u001b[0m \u001b[0mDEBUG\u001b[0m\u001b[0;34m:\u001b[0m \u001b[0mprint\u001b[0m\u001b[0;34m(\u001b[0m\u001b[0mexc\u001b[0m\u001b[0;34m.\u001b[0m\u001b[0mtraceback\u001b[0m\u001b[0;34m)\u001b[0m\u001b[0;34m\u001b[0m\u001b[0m\n\u001b[0;32m--> 630\u001b[0;31m                 \u001b[0;32mraise\u001b[0m \u001b[0mexc\u001b[0m\u001b[0;34m\u001b[0m\u001b[0m\n\u001b[0m\u001b[1;32m    631\u001b[0m \u001b[0;34m\u001b[0m\u001b[0m\n\u001b[1;32m    632\u001b[0m             \u001b[0;31m# If e is neither DatabaseError or IOError, It's a bug.\u001b[0m\u001b[0;34m\u001b[0m\u001b[0;34m\u001b[0m\u001b[0m\n",
      "\u001b[0;31mOperationalError\u001b[0m: (pymysql.err.OperationalError) (2003, \"Can't connect to MySQL server on 'localhost' ([Errno 61] Connection refused)\") (Background on this error at: http://sqlalche.me/e/e3q8)"
     ]
    }
   ],
   "source": [
    "engine = create_engine('mysql+pymysql://:@localhost/game_recommendation?charset=utf8mb4')\n",
    "df_app_info.to_sql('tbl_app_info_test',engine, if_exists='replace')"
   ]
  },
  {
   "cell_type": "markdown",
   "metadata": {
    "collapsed": true
   },
   "source": [
    "have troubles connect to mysql even when putting my user name and password. Any setting for mysql?"
   ]
  },
  {
   "cell_type": "code",
   "execution_count": null,
   "metadata": {
    "collapsed": true
   },
   "outputs": [],
   "source": []
  },
  {
   "cell_type": "code",
   "execution_count": null,
   "metadata": {
    "collapsed": true
   },
   "outputs": [],
   "source": []
  },
  {
   "cell_type": "code",
   "execution_count": null,
   "metadata": {
    "collapsed": true
   },
   "outputs": [],
   "source": []
  },
  {
   "cell_type": "code",
   "execution_count": null,
   "metadata": {
    "collapsed": true
   },
   "outputs": [],
   "source": []
  },
  {
   "cell_type": "code",
   "execution_count": null,
   "metadata": {
    "collapsed": true
   },
   "outputs": [],
   "source": []
  },
  {
   "cell_type": "code",
   "execution_count": null,
   "metadata": {
    "collapsed": true
   },
   "outputs": [],
   "source": []
  },
  {
   "cell_type": "code",
   "execution_count": null,
   "metadata": {
    "collapsed": true
   },
   "outputs": [],
   "source": []
  }
 ],
 "metadata": {
  "anaconda-cloud": {},
  "kernelspec": {
   "display_name": "Python 3",
   "language": "python",
   "name": "python3"
  },
  "language_info": {
   "codemirror_mode": {
    "name": "ipython",
    "version": 3
   },
   "file_extension": ".py",
   "mimetype": "text/x-python",
   "name": "python",
   "nbconvert_exporter": "python",
   "pygments_lexer": "ipython3",
   "version": "3.6.5"
  }
 },
 "nbformat": 4,
 "nbformat_minor": 1
}
