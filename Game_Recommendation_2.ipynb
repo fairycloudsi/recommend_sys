{
 "cells": [
  {
   "cell_type": "code",
   "execution_count": 1,
   "metadata": {},
   "outputs": [],
   "source": [
    "# import \n",
    "import requests, json, os, sys, time, re, math\n",
    "from bs4 import BeautifulSoup\n",
    "from datetime import datetime\n",
    "\n",
    "from sqlalchemy import create_engine, types \n",
    "import pandas as pd \n",
    "import numpy as np\n",
    "\n",
    "from sklearn.feature_extraction.text import TfidfVectorizer\n",
    "from sklearn.metrics.pairwise import linear_kernel, cosine_similarity\n",
    "\n",
    "from pyspark.ml.recommendation import ALS\n",
    "from pyspark import SparkContext\n",
    "from pyspark.sql import SparkSession"
   ]
  },
  {
   "cell_type": "code",
   "execution_count": 2,
   "metadata": {},
   "outputs": [],
   "source": [
    "# def a function to show work status \n",
    "def show_work_status(singleCount, totalCount, currentCount = 0):\n",
    "    currentCount += singleCount \n",
    "    percentage = 100.0 * currentCount / totalCount\n",
    "    status = '>' * int(percentage) + ' '*(100 - int(percentage))\n",
    "    sys.stdout.write('\\r[{0}] {1:.2f}%'.format(status, percentage))\n",
    "    sys.stdout.flush()\n",
    "    if percentage >= 100:\n",
    "        print('\\n')"
   ]
  },
  {
   "cell_type": "code",
   "execution_count": 3,
   "metadata": {},
   "outputs": [],
   "source": [
    "def split_list(lst_long, n):\n",
    "    lst_splitted = []\n",
    "    if len(lst_long) % n == 0:\n",
    "        totalBatches = int(len(lst_long) / n)\n",
    "    else:\n",
    "        totalBatches = int(len(lst_long) / n) + 1\n",
    "    for i in range(int(totalBatches)):\n",
    "        lst_short = lst_long[i*n : (i+1)*n]\n",
    "        lst_splitted.append(lst_short)\n",
    "    return lst_splitted"
   ]
  },
  {
   "cell_type": "code",
   "execution_count": 4,
   "metadata": {},
   "outputs": [],
   "source": [
    "# set file path \n",
    "path_app_info = 'app_detail.txt'\n",
    "path_user_inventory = 'user_inventory.txt'"
   ]
  },
  {
   "cell_type": "code",
   "execution_count": 5,
   "metadata": {},
   "outputs": [],
   "source": [
    "def get_steam_app_info():\n",
    "    url = 'https://api.steampowered.com/ISteamApps/GetAppList/v2/'\n",
    "    r = requests.get(url)\n",
    "    dic_app_list = r.json()\n",
    "    lst_app_id = [i.get('appid') for i in dic_app_list.get('applist').get('apps')]\n",
    "    print('Total apps:', len(lst_app_id))\n",
    "\n",
    "    total_count = len(lst_app_id)\n",
    "    current_count = 0\n",
    "    show_work_status(0, total_count, current_count)\n",
    "\n",
    "    path_app_detail_sample = 'app_detail.txt' \n",
    "    with open(path_app_detail_sample, 'w') as f:\n",
    "        for app_id in lst_app_id:\n",
    "            url_app_detail = ('http://store.steampowered.com/api/appdetails?appids=%s') % (app_id)\n",
    "            for i in range(3):\n",
    "                try:\n",
    "                    r = requests.get(url_app_detail)\n",
    "                    result = r.json()\n",
    "                    break\n",
    "                except:\n",
    "                    time.sleep(5)\n",
    "                    pass\n",
    "            f.write(json.dumps(result))\n",
    "            f.write('\\n')\n",
    "            show_work_status(1, total_count, current_count)\n",
    "            current_count += 1\n",
    "            if current_count % 200 == 0:\n",
    "                time.sleep(300)\n",
    "            else:\n",
    "                time.sleep(.5)"
   ]
  },
  {
   "cell_type": "code",
   "execution_count": 7,
   "metadata": {},
   "outputs": [
    {
     "name": "stdout",
     "output_type": "stream",
     "text": [
      "Total apps: 82771\n",
      "[>>>>>>>>>>>>>>>>>>>>>>>>>>>>>>>>>>>>>>>>>>>>>>>>>>>>>>>>>>>>>>>>>>>>>>>>>>>>>>>>>>>>>>>>>>>>>>>>>>>>] 100.00%\n",
      "\n"
     ]
    }
   ],
   "source": [
    "get_steam_app_info()"
   ]
  },
  {
   "cell_type": "code",
   "execution_count": 5,
   "metadata": {},
   "outputs": [],
   "source": [
    "# config database connection \n",
    "username = 'root'\n",
    "password = 'lalala'\n",
    "host = 'localhost'\n",
    "database = 'game_recommendation'\n",
    "engine = create_engine('mysql+pymysql://{}:{}@{}/{}?charset=utf8mb4'.format(username, password, host, database))\n",
    "jdbc_url = 'jdbc:mysql://{}/{}'.format(host, database)\n"
   ]
  },
  {
   "cell_type": "markdown",
   "metadata": {},
   "source": [
    "# Extract Selected App Features "
   ]
  },
  {
   "cell_type": "code",
   "execution_count": 6,
   "metadata": {},
   "outputs": [],
   "source": [
    "def parse_steam_app_info(steam_app_info):\n",
    "    if steam_app_info:\n",
    "        for app_id, app_info in steam_app_info.items():\n",
    "            success = app_info.get('success')\n",
    "            if success:\n",
    "                success = 1\n",
    "                app_data = app_info.get('data')\n",
    "                developers = ', '.join(app_data.get('developers', []))\n",
    "                if not developers:\n",
    "                    developers = None\n",
    "                publishers = ', '.join(app_data.get('publishers', []))\n",
    "                if not publishers:\n",
    "                    publishers = None\n",
    "                name = app_data.get('name')\n",
    "                required_age = app_data.get('required_age')\n",
    "                short_description = app_data.get('short_description')\n",
    "                critic_score = app_data.get('metacritic', {}).get('score')\n",
    "                app_type = app_data.get('type')\n",
    "                recommendation = app_data.get('recommendations',{}).get('total')\n",
    "                header_image = app_data.get('header_image')\n",
    "                fullgame = app_data.get('fullgame',{}).get('appid')\n",
    "                supported_languages = app_data.get('supported_languages')\n",
    "                if supported_languages:\n",
    "                    supported_languages = supported_languages.replace('<strong>*</strong>', '').replace('<br>languages with full audio support','')\n",
    "                if app_data.get('is_free') == True:\n",
    "                    initial_price = 0\n",
    "                    currency = 'USD'\n",
    "                else:\n",
    "                    if app_data.get('price_overview',{}):\n",
    "                        initial_price = app_data.get('price_overview',{}).get('initial', 0) / 100\n",
    "                        currency = app_data.get('price_overview',{}).get('currency')\n",
    "                    else:\n",
    "                        initial_price = None\n",
    "                        currency = None\n",
    "                if app_data.get('platforms',{}).get('linux'):\n",
    "                    linux = 1\n",
    "                else:\n",
    "                    linux = 0\n",
    "                if app_data.get('platforms',{}).get('mac'):\n",
    "                    mac = 1\n",
    "                else:\n",
    "                    mac = 0\n",
    "                if app_data.get('platforms',{}).get('windows'):\n",
    "                    windows = 1\n",
    "                else:\n",
    "                    windows = 0\n",
    "                if app_data.get('release_date',{}).get('coming_soon') == False:\n",
    "                    release_date = app_data.get('release_date',{}).get('date')\n",
    "                    if release_date:\n",
    "                        try:\n",
    "                            release_date = datetime.strptime(release_date, '%b %d, %Y').date()\n",
    "                        except Exception as e:\n",
    "                            try:\n",
    "                                release_date = datetime.strptime(release_date, '%d %b, %Y').date()\n",
    "                            except:\n",
    "                                try:\n",
    "                                    release_date = datetime.strptime(release_date, '%b %Y').date()\n",
    "                                except:\n",
    "                                    release_date = None\n",
    "                    else:\n",
    "                        release_date = None\n",
    "                else:\n",
    "                    release_date = None\n",
    "                dic_steam_app = {\n",
    "                    app_id : {\n",
    "                        'app_id' : app_id,\n",
    "                        'currency' : currency,\n",
    "                        'developers' : developers,\n",
    "                        'publishers' : publishers,\n",
    "                        'name' : name,\n",
    "                        'required_age' : required_age,\n",
    "                        'short_description' : short_description,\n",
    "                        'critic_score' : critic_score,\n",
    "                        'type' : app_type,\n",
    "                        'recommendation' : recommendation,\n",
    "                        'header_image' : header_image,\n",
    "                        'initial_price' : initial_price,\n",
    "                        'linux' : linux,\n",
    "                        'mac' : mac,\n",
    "                        'windows' : windows,\n",
    "                        'fullgame' : fullgame,\n",
    "                        'release_date' : release_date,\n",
    "                        'supported_languages' : supported_languages,\n",
    "                        'success' : success\n",
    "                    }\n",
    "                }\n",
    "            else:\n",
    "                dic_steam_app = {app_id : {'app_id' : app_id, 'success' : 0}}\n",
    "    else:\n",
    "        dic_steam_app = {}\n",
    "    return dic_steam_app\n",
    "\n"
   ]
  },
  {
   "cell_type": "code",
   "execution_count": 7,
   "metadata": {},
   "outputs": [],
   "source": [
    "def update_steam_game_info():\n",
    "    print('Parse app info and dump to databse')\n",
    "    dic_steam_app = {}\n",
    "    with open(path_app_info, 'r') as f:\n",
    "        lst_raw_string = f.readlines()\n",
    "        total_count = len(lst_raw_string)\n",
    "        current_count = 0\n",
    "        for i in lst_raw_string:\n",
    "            app_info = json.loads(i)\n",
    "            dic_steam_app.update(parse_steam_app_info(app_info))\n",
    "            show_work_status(1, total_count, current_count)\n",
    "            current_count += 1\n",
    "\n",
    "\n",
    "    df_steam_app = pd.DataFrame.from_dict(dic_steam_app, 'index')\n",
    "    df_steam_app = df_steam_app.loc[:,['app_id','name', 'release_date', 'type', 'currency', 'initial_price', 'developers', 'publishers', 'required_age', 'linux', 'mac', 'windows', 'fullgame', 'critic_score', 'recommendation', 'supported_languages', 'header_image', 'short_description', 'success']]\n",
    "    df_steam_app.to_sql('game_steam_app', engine, if_exists='replace', index=False, dtype = {\n",
    "        'app_id' : types.Integer(),\n",
    "        'name' : types.String(200),\n",
    "        'release_date' : types.Date,\n",
    "        'type' : types.String(50),\n",
    "        'currency' : types.String(5),\n",
    "        'initial_price' : types.Float(),\n",
    "        'developers' : types.String(500),\n",
    "        'publishers' : types.String(500),\n",
    "        'required_age' : types.Integer(),\n",
    "        'linux' : types.Boolean(),\n",
    "        'mac' : types.Boolean(),\n",
    "        'windows' : types.Boolean(),\n",
    "        'fullgame' : types.Integer(),\n",
    "        'critic_score' : types.Integer(),\n",
    "        'recommendation' : types.Integer(),\n",
    "        'supported_languages' : types.String(500),\n",
    "        'header_image' : types.String(500),\n",
    "        'short_description' : types.String(1000),\n",
    "        'success' : types.Boolean()\n",
    "        })\n",
    "\n",
    "\n"
   ]
  },
  {
   "cell_type": "code",
   "execution_count": 8,
   "metadata": {},
   "outputs": [],
   "source": [
    "\n",
    "def add_owner_count():\n",
    "    # Update estimated owners\n",
    "    # https://steamspy.com\n",
    "    print('Create owners table')\n",
    "    engine.execute('CREATE TABLE IF NOT EXISTS game_steam_app_owner (app_id INT(11), owner INT(11))')\n",
    "    engine.execute(\n",
    "        '''\n",
    "        INSERT INTO game_steam_app_owner VALUES \n",
    "            (570, 117309000),\n",
    "            (578080, 61095000),\n",
    "            (440, 45101000),\n",
    "            (730, 43740000),\n",
    "            (304930, 33008000),\n",
    "            (230410, 25690000),\n",
    "            (550, 19505000),\n",
    "            (444090, 18586000),\n",
    "            (227940, 16620000),\n",
    "            (218620, 15510000)\n",
    "        ''')\n",
    "\n",
    "\n"
   ]
  },
  {
   "cell_type": "markdown",
   "metadata": {},
   "source": [
    "# Most Played Games Per User"
   ]
  },
  {
   "cell_type": "code",
   "execution_count": 9,
   "metadata": {},
   "outputs": [],
   "source": [
    "def get_user_playtime():\n",
    "    print('Parse user inventory and dump to databse')\n",
    "    lst_player_game_playtime = []\n",
    "    with open(path_user_inventory, 'r') as f:\n",
    "        for raw_string in f.readlines():\n",
    "            user_id, lst_inventory = list(json.loads(raw_string).items())[0]\n",
    "            if lst_inventory:\n",
    "                for i in lst_inventory:\n",
    "                    app_id = i.get('appid')\n",
    "                    playtime_forever = i.get('playtime_forever', 0)\n",
    "                    playtime_2weeks = i.get('playtime_2weeks', 0)\n",
    "                    lst_player_game_playtime.append('(\"{}\", \"{}\", \"{}\", \"{}\")'.format(user_id, app_id, playtime_forever, playtime_2weeks))\n",
    "\n",
    "\n",
    "    engine.execute('CREATE TABLE IF NOT EXISTS game_steam_user_inventory (user_id BIGINT(20), app_id INT(11), playtime_forever INT(11), playtime_2weeks INT(11))')\n",
    "\n",
    "    if lst_player_game_playtime:\n",
    "        for i in split_list(lst_player_game_playtime, 5000):\n",
    "            engine.execute(\n",
    "            '''\n",
    "                INSERT INTO game_steam_user_inventory (user_id, app_id, playtime_forever, playtime_2weeks) \n",
    "                VALUES {} \n",
    "                ON DUPLICATE KEY \n",
    "                UPDATE playtime_forever = VALUES(playtime_forever), playtime_2weeks = VALUES(playtime_2weeks)\n",
    "            '''.format(\n",
    "                    ','.join(i),\n",
    "                ).replace('\"None\"','null')\n",
    "            )\n",
    "\n"
   ]
  },
  {
   "cell_type": "markdown",
   "metadata": {},
   "source": [
    "# Build Recommendation Models \n",
    "## Model 1: Content based - Description"
   ]
  },
  {
   "cell_type": "code",
   "execution_count": 10,
   "metadata": {},
   "outputs": [],
   "source": [
    "def recommendation_content_based():\n",
    "    print('Content Based Model')\n",
    "    df_game_description = pd.read_sql_query('''SELECT app_id, short_description FROM game_steam_app WHERE short_description IS NOT NULL AND type = \"game\" AND release_date <= CURDATE() AND initial_price IS NOT NULL''', engine)\n",
    "    tfidf = TfidfVectorizer(strip_accents='unicode',stop_words='english').fit_transform(df_game_description.short_description.tolist())\n",
    "\n",
    "    lst_app_id = df_game_description.app_id.tolist()\n",
    "    dic_recomended = {}\n",
    "    total_count = df_game_description.shape[0]\n",
    "    current_count = 0\n",
    "    for row_index in range(tfidf.shape[0]):\n",
    "        cosine_similarities = linear_kernel(tfidf[row_index:row_index+1], tfidf).flatten()\n",
    "        top_related_rows = cosine_similarities.argsort()[-2:-22:-1]\n",
    "        dic_recomended.update({lst_app_id[row_index]:[lst_app_id[i] for i in top_related_rows]})\n",
    "        show_work_status(1,total_count,current_count)\n",
    "        current_count+=1\n",
    "\n",
    "\n",
    "    df_content_based_results = pd.DataFrame.from_dict(dic_recomended, 'index')\n",
    "    df_content_based_results.index.name = 'app_id'\n",
    "    df_content_based_results.reset_index(inplace=True)\n",
    "    df_content_based_results.to_sql('recommended_games_content_based',engine,if_exists='replace', index = False)\n",
    "\n"
   ]
  },
  {
   "cell_type": "markdown",
   "metadata": {},
   "source": [
    "## Model 2: Item based"
   ]
  },
  {
   "cell_type": "code",
   "execution_count": 11,
   "metadata": {},
   "outputs": [],
   "source": [
    "def recommendation_item_based():\n",
    "    print('Item Based Model')\n",
    "    dic_purchase = {}\n",
    "    set_valid_app_id = set([i[0] for i in engine.execute('SELECT app_id FROM game_steam_app WHERE short_description IS NOT NULL AND type = \"game\"AND release_date <= CURDATE() AND initial_price IS NOT NULL').fetchall()])\n",
    "    for app_id, user_id in engine.execute('SELECT app_id, user_id FROM game_steam_user_inventory').fetchall():\n",
    "        if app_id in set_valid_app_id:\n",
    "            if user_id in dic_purchase:\n",
    "                dic_purchase[user_id].update({app_id : 1})\n",
    "            else:\n",
    "                dic_purchase[user_id] = {app_id : 1}\n",
    "\n",
    "    df_purchase = pd.DataFrame(dic_purchase).fillna(0)\n",
    "    purchase_matrix = df_purchase.values\n",
    "    lst_app_id = df_purchase.index\n",
    "\n",
    "    total_count = purchase_matrix.shape[0]\n",
    "    current_count = 0\n",
    "\n",
    "    dic_recomended_item_based = {}\n",
    "    for index in range(total_count):\n",
    "        cosine_similarities = linear_kernel(purchase_matrix[index:index+1], purchase_matrix).flatten()\n",
    "        lst_related_app = np.argsort(-cosine_similarities)[1:101]\n",
    "        dic_recomended_item_based.update({lst_app_id[index]:[lst_app_id[i] for i in lst_related_app]})\n",
    "        show_work_status(1,total_count,current_count)\n",
    "        current_count+=1\n",
    "\n",
    "\n",
    "    df_item_based_result = pd.DataFrame.from_dict(dic_recomended_item_based, 'index')\n",
    "    df_item_based_result.index.name = 'app_id'\n",
    "    df_item_based_result.reset_index(inplace=True)\n",
    "    df_item_based_result.to_sql('recommended_games_item_based', engine, if_exists='replace', chunksize = 1000, index = False)\n",
    "\n"
   ]
  },
  {
   "cell_type": "code",
   "execution_count": 16,
   "metadata": {},
   "outputs": [],
   "source": [
    "def recommend_games():\n",
    "    update_steam_game_info()\n",
    "    add_owner_count()\n",
    "    get_user_playtime()\n",
    "    recommendation_content_based()\n",
    "    recommendation_item_based()\n",
    "    print('finish')\n",
    "\n"
   ]
  },
  {
   "cell_type": "code",
   "execution_count": 17,
   "metadata": {},
   "outputs": [
    {
     "name": "stdout",
     "output_type": "stream",
     "text": [
      "Parse app info and dump to databse\n",
      "[>>>>>>>>>>>>>>>>>>>>>>>>>>>>>>>>>>>>>>>>>>>>>>>>>>>>>>>>>>>>>>>>>>>>>>>>>>>>>>>>>>>>>>>>>>>>>>>>>>> ] 99.36%Create owners table\n",
      "Parse user inventory and dump to databse\n"
     ]
    },
    {
     "name": "stderr",
     "output_type": "stream",
     "text": [
      "/home/sophia/.local/lib/python3.6/site-packages/pymysql/cursors.py:170: Warning: (1050, \"Table 'game_steam_app_owner' already exists\")\n",
      "  result = self._query(query)\n",
      "/home/sophia/.local/lib/python3.6/site-packages/pymysql/cursors.py:170: Warning: (1050, \"Table 'game_steam_user_inventory' already exists\")\n",
      "  result = self._query(query)\n"
     ]
    },
    {
     "name": "stdout",
     "output_type": "stream",
     "text": [
      "Content Based Model\n",
      "[>>>>>>>>>>>>>>>>>>>>>>>>>>>>>>>>>>>>>>>>>>>>>>>>>>>>>>>>>>>>>>>>>>>>>>>>>>>>>>>>>>>>>>>>>>>>>>>>>>>>] 100.00%\n",
      "\n",
      "Item Based Model\n",
      "[>>>>>>>>>>>>>>>>>>>>>>>>>>>>>>>>>>>>>>>>>>>>>>>>>>>>>>>>>>>>>>>>>>>>>>>>>>>>>>>>>>>>>>>>>>>>>>>>>>>>] 100.00%\n",
      "\n",
      "finish\n"
     ]
    }
   ],
   "source": [
    "recommend_games()"
   ]
  },
  {
   "cell_type": "code",
   "execution_count": null,
   "metadata": {},
   "outputs": [],
   "source": []
  }
 ],
 "metadata": {
  "kernelspec": {
   "display_name": "Python 3",
   "language": "python",
   "name": "python3"
  },
  "language_info": {
   "codemirror_mode": {
    "name": "ipython",
    "version": 3
   },
   "file_extension": ".py",
   "mimetype": "text/x-python",
   "name": "python",
   "nbconvert_exporter": "python",
   "pygments_lexer": "ipython3",
   "version": "3.6.7"
  }
 },
 "nbformat": 4,
 "nbformat_minor": 2
}
